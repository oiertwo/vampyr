{
 "metadata": {
  "name": "",
  "signature": "sha256:05974308b530462cf16d37db607aa4646c8c93e762240e5536bf308200650459"
 },
 "nbformat": 3,
 "nbformat_minor": 0,
 "worksheets": []
}