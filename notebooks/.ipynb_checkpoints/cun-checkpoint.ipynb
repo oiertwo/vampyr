{
 "metadata": {
  "name": "",
  "signature": "sha256:0095956cd3cdf69670e98083955efa8961f26e8522ab5e1f51ef422e388f7ced"
 },
 "nbformat": 3,
 "nbformat_minor": 0,
 "worksheets": [
  {
   "cells": [
    {
     "cell_type": "code",
     "collapsed": false,
     "input": [
      "import numpy as np\n",
      "import pandas as pd\n",
      "from collections import deque\n",
      "import re"
     ],
     "language": "python",
     "metadata": {},
     "outputs": [],
     "prompt_number": 2
    },
    {
     "cell_type": "code",
     "collapsed": false,
     "input": [
      "path = \"/home/oier/Desktop/informe_9370208.txt\""
     ],
     "language": "python",
     "metadata": {},
     "outputs": [],
     "prompt_number": 8
    },
    {
     "cell_type": "code",
     "collapsed": false,
     "input": [
      "dict = {}\n",
      "appearances = {}\n",
      "names = deque()\n",
      "with open(path) as f:\n",
      "    txt = f.readlines()"
     ],
     "language": "python",
     "metadata": {},
     "outputs": [],
     "prompt_number": 10
    },
    {
     "cell_type": "code",
     "collapsed": false,
     "input": [
      "blood = []\n",
      "append = False\n",
      "for line in txt:\n",
      "    if append:\n",
      "        blood.append(line)\n",
      "    if ( \"EXPLORACIONES COMPLEMENTARIAS\" in line ):\n",
      "        append=True\n",
      "    if append and (prev == \" \\n\" and line == \" \\n\"):\n",
      "        append=False\n",
      "    prev = line\n",
      "    "
     ],
     "language": "python",
     "metadata": {},
     "outputs": [],
     "prompt_number": 19
    },
    {
     "cell_type": "code",
     "collapsed": false,
     "input": [
      "blood"
     ],
     "language": "python",
     "metadata": {},
     "outputs": [
      {
       "metadata": {},
       "output_type": "pyout",
       "prompt_number": 20,
       "text": [
        "[' \\n',\n",
        " '27/07/15  \\n',\n",
        " ' \\n',\n",
        " 's-Glucosa: 94 mg/dL; s-Calcio: 9,2 mg/dL. s-Magnesio: 2 mg/dL; s-Fosfato inorg\u00e1nico: \\n',\n",
        " '3,5 mg/dL; \\n',\n",
        " ' \\n',\n",
        " 's-Bilirrubina:Total: 0,49 mg/dL; Directa: 0,23 mg/dL; Indirecta: 0,26 mg/dL. \\n',\n",
        " 's-AST (GOT): 27 UI/L; s-ALT (GPT): 26 UI/L;  \\n',\n",
        " 's-Fosfatasa alcalina: 86 UI/L; s-Lactato deshidrogenasa (LDH): 262 UI/L;  \\n',\n",
        " 's-Amilasa: 57 UI/L; s-Lipasa: 25 U/l. \\n',\n",
        " ' \\n',\n",
        " 'p-Ionograma: Sodio: 145 mEq/L; Potasio: 3,6 mEq/L; Cloruro: 107 mEq/L. \\n',\n",
        " 'p-CO2_total: CO2 total: 20,0 mEq/L; Anion restante: 17,7 mEq/L. \\n',\n",
        " 'p-Urea: 26 mg/dL. \\n',\n",
        " 'p-Creatinina: 0,9 mg/dL; \u00cdndice Cockroft: 201 mL/min; MDRD: 108 mL/min/1,73 mE2. \\n',\n",
        " ' \\n',\n",
        " 's-T3 Libre: 4,42 pmol/L; s-TSH: 1,32 \u00b5U/ml; s-T4  Libre: 16,24 pmol/L;  \\n',\n",
        " ' \\n',\n",
        " 's-Alb\u00famina: 3860,00 mg/dL;  \\n',\n",
        " ' \\n',\n",
        " 's-Alfa-fetoprote\u00edna: 1,8 UI/mL. \\n',\n",
        " ' \\n',\n",
        " 'Hemat\u00edes: 5,04 10E12/L; Hb: 14,3 g/dL; Hto: 43,8 %; VCM: 86,9 fL; HCM: 28,4 pg; \\n',\n",
        " 'CHCM: 32,6 g/dL; Plaquetas: 270 10E9/L; Leucocitos: 6,4 10E9/L; Neutr\u00f3filos: 67,1 %; \\n',\n",
        " 'Linfocitos: 25,0 %; Monocitos: 5,7 %; Eosin\u00f3filos: 1,7 %; Bas\u00f3filos: 0,5 %. \\n',\n",
        " ' \\n',\n",
        " 'T.Protrombina: 107,0 %; INR: 1,0. TTPA: 34,7 s; Raz\u00f3n: 1,0. Fibrin\u00f3geno: 340 mg/dL. \\n',\n",
        " ' \\n',\n",
        " 'Serol. Hepatitis B. Ant\u00edgeno HBs (Australia): Negativo. \\n',\n",
        " 'Serol. Hepatitis B. Anti HBc (Anticuerpos totales): Negativo. \\n',\n",
        " 'Serol. Hepatitis C. AntiVHC: Negativo. \\n',\n",
        " 'Serol. de VIH 1-2 (Ag+Ac): Negativo. \\n',\n",
        " 'Carga Viral Virus Hepatitis B: No se detecta ADN de VHB. \\n',\n",
        " 'Carga Viral Virus Hepatitis C: No se detecta ARN de VHC. \\n',\n",
        " ' \\n',\n",
        " 'Anormales y sedimento: \\n',\n",
        " 'Densidad: 1,019; pH: 5,0; Leucocitos: Negativo; Sedimento: Sin alteraci\u00f3n. \\n',\n",
        " ' \\n',\n",
        " 'HLA-AB (CDC): \\n',\n",
        " 'Tipo de muestra: C\u00e9lulas mononucleadas aisladas de sangre perif\u00e9rica.; HLA-A: 11; HLA-\\n',\n",
        " 'A: 30; HLA-B: 35; HLA-B: 40 (probable 60). \\n',\n",
        " ' \\n',\n",
        " ' \\n',\n",
        " ' \\n',\n",
        " ' FECHA: 29/07/2015 \\n',\n",
        " 'N\u00ba HISTORIA: 753530 \\n',\n",
        " 'DPTO: Unidad Hepatolog\u00eda \\n',\n",
        " 'M\u00c9DICO: BSG/ihb \\n',\n",
        " 'P\u00c1GINA 4/ 4 \\n',\n",
        " '  \\n',\n",
        " ' \\n',\n",
        " 'Avd. P\u00edo XII, 36. 31008 Pamplona. Espa\u00f1a Tel.Centralita +34 948 25 54 00 Fax +34 948 29 65 00 atpacientecun@unav.es www.cun.es \\n',\n",
        " ' \\n',\n",
        " 'Radiolog\u00eda \\n',\n",
        " ' \\n',\n",
        " 'TAC Abdomen (27/07/15)  \\n',\n",
        " 'Juicio diagn\u00f3stico \\n',\n",
        " 'Cambios postquir\u00fargicos en relaci\u00f3n con segmentectom\u00eda II-III sin signos de recidiva local \\n',\n",
        " 'hep\u00e1tica.  \\n',\n",
        " 'Lesiones s\u00f3lidas renales izquierdas sospechosas de malignidad. \\n',\n",
        " 'Comentario \\n',\n",
        " 'Se compara el estudio actual con el TC previo (externo) del 17/06/2015.  \\n',\n",
        " 'Signos de actuaci\u00f3n quir\u00fargica en relaci\u00f3n con segmentectom\u00eda II-III. No se identifican \\n',\n",
        " 'signos sugestivos de recidiva local hep\u00e1tica. No se observan lesiones focales hep\u00e1ticas \\n',\n",
        " 'sospechosas. Colecistectom\u00eda. V\u00eda biliar de calibre normal. Vena porta permeable. Bazo, \\n',\n",
        " 'gl\u00e1ndulas suprarrenales y p\u00e1ncreas no muestran alteraciones significativas. Signos de \\n',\n",
        " 'actuaci\u00f3n quir\u00fargica en relaci\u00f3n con nefrectom\u00eda parcial derecha. Irregularidad marcada \\n',\n",
        " 'del contorno renal derecho sin identificarse lesiones concluyentes s\u00f3lidas medibles en el \\n',\n",
        " 'momento actual. En ri\u00f1\u00f3n izquierdo se identifican al menos dos lesiones corticales s\u00f3lidas \\n',\n",
        " 'sospechosas de malignidad, una en tercio medio de 3 cm y la otra en tercio medio-polo \\n',\n",
        " 'inferior a nivel posterior de aproximadamente 1,5 cm, ambas con signos de realce tras la \\n',\n",
        " 'administraci\u00f3n de contraste, y sin cambios significativos con respecto estudio previo. No \\n',\n",
        " 'hay hidronefrosis. Se identifica otra peque\u00f1a imagen cortical en polo superior de apenas 1 \\n',\n",
        " 'cm, inespec\u00edfica, a controlar evolutivamente.  No se observan adenopat\u00edas de \\n',\n",
        " 'caracter\u00edsticas sospechosas en cadenas ganglionares abdominop\u00e9lvicas. No hay ascitis. \\n',\n",
        " 'Asas intestinales sin alteraciones significativas.  No se identifican lesiones \u00f3seas \\n',\n",
        " 'sospechosas de afectaci\u00f3n metast\u00e1sica. \\n',\n",
        " ' \\n',\n",
        " 'TAC T\u00f3rax (27/07/15)  \\n',\n",
        " 'Juicio diagn\u00f3stico No cambios  \\n',\n",
        " 'Comentario \\n',\n",
        " 'No se observan cambios significativos en un n\u00f3dulo pulmonar de 14 x 10 mm localizado \\n',\n",
        " 'en el l\u00f3bulo inferior izquierdo. Existe tambi\u00e9n un n\u00f3dulo de menor tama\u00f1o y \\n',\n",
        " 'paramediast\u00ednico del l\u00f3bulo superior derecho de cuatro mil\u00edmetros que no se puede \\n',\n",
        " 'comparar adecuadamente por que exist\u00eda en el estudio previo un artefacto de contraste a \\n',\n",
        " 'ese nivel. No se detectan otros n\u00f3dulos patol\u00f3gicos. Ganglios tor\u00e1cicos de tama\u00f1o y \\n',\n",
        " 'morfolog\u00eda normales. No derrame pleural ni peric\u00e1rdico.  \\n',\n",
        " ' \\n',\n",
        " 'Electrocardiograma (27/07/15) Ritmo sinusal.  \\n',\n",
        " ' \\n']"
       ]
      }
     ],
     "prompt_number": 20
    },
    {
     "cell_type": "code",
     "collapsed": false,
     "input": [],
     "language": "python",
     "metadata": {},
     "outputs": []
    }
   ],
   "metadata": {}
  }
 ]
}