{
 "metadata": {
  "name": "",
  "signature": "sha256:90a9321aa46bfa29d24f51d853fc898b94e07423c0bdc0ebb15c1167132af2d3"
 },
 "nbformat": 3,
 "nbformat_minor": 0,
 "worksheets": [
  {
   "cells": [
    {
     "cell_type": "code",
     "collapsed": false,
     "input": [],
     "language": "python",
     "metadata": {},
     "outputs": []
    }
   ],
   "metadata": {}
  }
 ]
}