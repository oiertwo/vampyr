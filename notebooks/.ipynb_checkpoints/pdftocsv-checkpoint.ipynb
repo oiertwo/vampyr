{
 "metadata": {
  "name": "",
  "signature": "sha256:bb4b58d04aabacf8c2085a068a48cca77b2788d90aa30ff3f0b5f0284c90c4f0"
 },
 "nbformat": 3,
 "nbformat_minor": 0,
 "worksheets": [
  {
   "cells": [
    {
     "cell_type": "markdown",
     "metadata": {},
     "source": [
      "#Read data"
     ]
    },
    {
     "cell_type": "code",
     "collapsed": false,
     "input": [
      "import distance as dist\n",
      "import numpy as np\n",
      "import pandas as pd\n",
      "from collections import deque\n",
      "import re"
     ],
     "language": "python",
     "metadata": {},
     "outputs": [],
     "prompt_number": 1
    },
    {
     "cell_type": "code",
     "collapsed": false,
     "input": [
      "#Variables\n",
      "path = \"../data/ExampleTest.txt\"\n",
      "apath = \"../data/ExampleTestArray_modified.txt\""
     ],
     "language": "python",
     "metadata": {},
     "outputs": [],
     "prompt_number": 2
    },
    {
     "cell_type": "code",
     "collapsed": false,
     "input": [
      "dict = {}\n",
      "appearances = {}\n",
      "names = deque()\n",
      "with open(path) as f:\n",
      "    txt = f.readlines()\n",
      "with open(apath) as f2:\n",
      "    array_txt_str = f2.read()\n",
      "    \n",
      "array_txt_str = re.sub(r'\\[.*?\\]', '',array_txt_str)\n",
      "name = \"\"\n",
      "size = 0\n",
      "for i in txt:\n",
      "    actual = i.replace(\"\\n\", '')\n",
      "    size +=len(actual)\n",
      "    if(len(i.strip()) == 0):\n",
      "        continue\n",
      "    try :\n",
      "        number = float(actual)\n",
      "        if (number > 10000000):\n",
      "            continue\n",
      "        \n",
      "        #TODO\n",
      "        #need to remove data between brackets in array_txt_str\n",
      "        #since some conflicts happen when finding numbers in that text\n",
      "        if(number == 0.0):\n",
      "            zeros = len([k.start() for k in re.finditer(\"0\", actual)])\n",
      "            \n",
      "        idx = [k.start() for k in re.finditer(actual, array_txt_str)]\n",
      "        idx_end = [k.end() for k in re.finditer(actual, array_txt_str)]\n",
      "        #myidx = np.where(min_idx == min(min_idx))\n",
      "        try:\n",
      "            appearances[actual] += 1\n",
      "        except:\n",
      "            appearances[actual] = 1\n",
      "        \n",
      "        #dict[actual] = actual\n",
      "        found = False\n",
      "        while appearances[actual] <= len(idx) and found == False:\n",
      "            prev = array_txt_str[idx[appearances[actual] - 1] - 1]\n",
      "            post = array_txt_str[idx_end[appearances[actual] - 1] + 1]\n",
      "            if (number == 0):\n",
      "                zf  = [k.start() for k in re.finditer(\"0\", array_txt_str[(idx[appearances[actual] - 1] - zeros):(idx_end[appearances[actual] - 1] + zeros)]\n",
      "                #if (len(zf) == zeros):\n",
      "                #    found = True\n",
      "                    \n",
      "            if (prev.isdigit() == False and post.isdigit() == False):\n",
      "                found = True\n",
      "            else:\n",
      "                if (found == False):\n",
      "                    appearances[actual] += 1\n",
      "            print(\"finding: {} prev: {} found?: {} number: {}\".format(actual, prev, found, appearances[actual] ))\n",
      "        print(\"found: {} location per line: {} location as array: {} apps: {} size: {} type of name: {}\".format(actual, size,idx[appearances[actual] -1],appearances[actual], len(idx),type(actual)))\n",
      "    except :\n",
      "        pass\n",
      "print(array_txt_str)"
     ],
     "language": "python",
     "metadata": {},
     "outputs": [
      {
       "ename": "SyntaxError",
       "evalue": "invalid syntax (<ipython-input-20-87a46142eee2>, line 46)",
       "output_type": "pyerr",
       "traceback": [
        "\u001b[1;36m  File \u001b[1;32m\"<ipython-input-20-87a46142eee2>\"\u001b[1;36m, line \u001b[1;32m46\u001b[0m\n\u001b[1;33m    if (prev.isdigit() == False and post.isdigit() == False):\u001b[0m\n\u001b[1;37m                                                            ^\u001b[0m\n\u001b[1;31mSyntaxError\u001b[0m\u001b[1;31m:\u001b[0m invalid syntax\n"
       ]
      }
     ],
     "prompt_number": 20
    },
    {
     "cell_type": "code",
     "collapsed": false,
     "input": [],
     "language": "python",
     "metadata": {},
     "outputs": [],
     "prompt_number": 3
    }
   ],
   "metadata": {}
  }
 ]
}