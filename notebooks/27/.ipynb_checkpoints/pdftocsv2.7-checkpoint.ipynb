{
 "metadata": {
  "name": "",
  "signature": "sha256:d6b7d97656f39422501648a2befe4dfc0a97c97fb48d62ddfe74d2e43a3a8863"
 },
 "nbformat": 3,
 "nbformat_minor": 0,
 "worksheets": []
}