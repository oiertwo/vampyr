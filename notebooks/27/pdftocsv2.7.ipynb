{
 "metadata": {
  "name": "",
  "signature": "sha256:452c806b48034ec3b0c71f90701368ca1f0d45c5e6031f3ca6e8c56daa2ac25f"
 },
 "nbformat": 3,
 "nbformat_minor": 0,
 "worksheets": [
  {
   "cells": [
    {
     "cell_type": "code",
     "collapsed": false,
     "input": [
      "import pyPdf"
     ],
     "language": "python",
     "metadata": {},
     "outputs": [],
     "prompt_number": 22
    },
    {
     "cell_type": "code",
     "collapsed": false,
     "input": [
      "mypdf = \"../../data/ExampleTest.pdf\""
     ],
     "language": "python",
     "metadata": {},
     "outputs": [],
     "prompt_number": 2
    },
    {
     "cell_type": "code",
     "collapsed": false,
     "input": [
      "input1 = pyPdf.PdfFileReader(file(mypdf, \"rb\"))\n",
      "content = \"\"\n",
      "for i in range(0, input1.getNumPages()):\n",
      "    content += input1.getPage(i).extractText() + \" \\n\"\n",
      "    content = \" \".join(content.replace(u\"\\xa0-2\", u\" \").strip().split())\n",
      "print(content)"
     ],
     "language": "python",
     "metadata": {},
     "outputs": [
      {
       "output_type": "stream",
       "stream": "stdout",
       "text": [
        "FERNANDEZ LOPEZ MCETXANIZ BENEITEZOIERM\u00e9dico:25943278ENDOCRINOLOGIAServicio:Diagn\u00f3stico:HIPOGONADISMOPARAMETRORESULTADOApellidos: Nombre: ________________________________________________________________________________________________________________________________________________________________________________________________________________________________________________________________________________________________________________________________________________________________Edad: Observ.:62110701N\u00ba Petici\u00f3n:19/05/2014N\u00ba S.S.:480094652053Fecha extracci\u00f3n-inicio ensayo:Destino:MENDARO CONSULTASCentro:MENDARO HOSPITALN\u00ba Lab_N\u00baH\u00aa: P\u00ba Dr. Begiristain, s/n.20014 Donostia-San Sebasti\u00e1n. Gipuzkoa.Espa\u00f1a. Tfno. 943007038. Fax.943007063VALOR DE REFERENCIA LABORATORIO HOSPITAL UNIVERSITARIO DONOSTIA UNIDADES DONOSTIA UNIBERTSITATE OSPITALEKO LABORATEGIA F.Nacimiento:15/09/1988HospitalOspitalea_____________________________Donostia1049470CIC:*62110701*HombreSexo:1494183TIS:BIOQUIMICA- GENERALBioqu\u00edmica generalSrm-Pla-Creatinina1.15mg/dL[ .70 - 1.20 ]Filtrado glomerular estimado77mL/min/1.73 m\u00b2MDRD-4Por encima de 60 el c\u00e1lculo de la estimaci\u00f3n del filtrado no es v\u00e1lido para alertar de enfermedad renal cr\u00f3nica.Srm-Pla-Glucosa88mg/dL[ 70 - 110 ]Srm-Colesterol182mg/dL[ 120 - 220 ]Deseable: [ < 200 ]Enzimas sueroSrm-Pla-ALT(GPT)17U/L[ 0 - 41 ]BIOQUIMICA-HORMONAS-MARCADORESHormonasSrm-Folitropina (FSH) 1.4U/LHombres: Mujeres:F.folicular: F.ovulatoria: F.luteinica: Postmenopausia: Ni\u00f1os: [ 1.7 - 11 ][ 3.9 - 10 ][ 6.6 - 52 ][ 2.3 - 8 ][ 26.5 - 139 ][ 0 - 4 ]Srm-Lutropina (LH) 1.7U/LHombres: Mujeres:F.folicular: F.ovulatoria: F.luteinica: Postmenopausia: Ni\u00f1os: [ 0.5 - 6 ][ 1.7 - 7.2 ][ 13 - 52 ][ 0.6 - 10 ][ 20 - 65 ][ 0.3 - 1 ]Srm-Prolactina20.1ng/mL*[ 4 - 15.2 ]Srm-Testosterona total1.64ng/mL*Hombres: Mujeres: Ni\u00f1os: [ 2.4 - 10.7 ][ 0.06 - 0.86 ][ 0 - 0.3 ]P\u00e1g. 1 de 262110701Petici\u00f3n:ETXANIZ BENEITEZApellidos:____________________________________________________________________________________________________________________Nombre:OIERSrm-SHBG24.4nmol/L[ 11.4 - 52.3 ]36.3pg/mL[ 66 - 216 ]*Srm-Testosterona libre calculadaHEMATOLOGIA-MORFOLOGIAHemogramaSan-Hemat\u00edes5.490*10e6/uL[ 4.3 - 5.6 ]San-Hemoglobina15.4g/dL[ 13 - 17 ]San-Hematocrito45.6%[ 40 - 50 ]San-V.C.M.83.1fL[ 80 - 97 ]San-H.C.M.28.1pg[ 27 - 33 ]San-C.H.C.M.33.8g/dL[ 32 - 36 ]San-A.D.E.15.3%C.V.[ 11.5 - 15.6 ]San-Plaquetas312*10e3/\u00b5L[ 140 - 400 ]San-Leucocitos8.17*10e3/\u00b5L[ 3.8 - 10 ]F\u00f3rmulaSan-Neutr\u00f3filos46.4%[ 40 - 75 ]San-Neutr\u00f3filos3.79*10e3/\u00b5L[ 1.6 - 7.5 ]San-Linfocitos37.9%[ 19 - 48 ]San-Linfocitos3.10*10e3/uL[ 0.9 - 3.5 ]San-Monocitos13.20%[ 3.5 - 12 ]*San-Monocitos1.08*10e3/\u00b5L[ 0.2 - 0.9 ]*San-Eosin\u00f3filos1.700%[ 0.5 - 7 ]San-Eosin\u00f3filos0.14*10e3/\u00b5L[ 0.02 - 0.6 ]San-Bas\u00f3filos0.700%[ 0 - 1.5 ]San-Bas\u00f3filos0.06*10e3/\u00b5L[ 0 - 0.2 ]San-Granulocitos inmad.0.10%[ 0 - 0.5 ]San-Granulocitos inmad.0.01*10e3/\u00b5L[ 0 - 0.03 ]San-Granulocitos inmad. : Valores normales en embarazadas: 0,1-2,1 % Granulocitos inmaduros incluye metamielocitos, mielocitos y promielocitos. Cifras > 2% indican desviaci\u00f3n izquierda(infecci\u00f3n, tto. con G-CSF, hemopat\u00eda...)-San-Eritroblastos 0.0%[ 0 - 0 ]San-Eritroblastos0.000*10e3/\u00b5L[ 0 - 0 ]Validadores finales:5/8/2014Fecha edici\u00f3n informe:Este informe no podr\u00e1 reproducirse parcialmente sin aprobaci\u00f3n escrita del LHUD. Se conserva registro inform\u00e1tico del m\u00e9todo seguido en cada par\u00e1metro.Jefe del Servicio de Bioqu\u00edmica:Jefe de Servicio de Hematolog\u00eda:Jefe del Servicio de Microbiolog\u00eda:M. Araiz RamirezE. P\u00e9rez TralleroA. Garrido Chercoles________________________________________________________________________________________________________________________________________P\u00e1g. 2 de 2\n"
       ]
      }
     ],
     "prompt_number": 8
    },
    {
     "cell_type": "code",
     "collapsed": false,
     "input": [
      "import PyPDF2"
     ],
     "language": "python",
     "metadata": {},
     "outputs": [],
     "prompt_number": 10
    },
    {
     "cell_type": "code",
     "collapsed": false,
     "input": [
      "pdf = PyPDF2.PdfFileReader(open(mypdf, \"rb\"))\n",
      "#pdf.getPage(0)"
     ],
     "language": "python",
     "metadata": {},
     "outputs": [],
     "prompt_number": 19
    },
    {
     "cell_type": "code",
     "collapsed": false,
     "input": [
      "from StringIO import StringIO\n",
      "\n",
      "def getPDFContent(path):\n",
      "    content = \"\"\n",
      "    pdf = pyPdf.PdfFileReader(file(path,\"rb\"))\n",
      "    for i in range(0, pdf.getNumPages()):\n",
      "        content += pdf.getPage(i).extractText() + \" \\n\"\n",
      "        content = \" \".join(content.replace(u\"\\xa0-2\", u\" \").strip().split())\n",
      "    return(content)\n",
      "\n",
      "pdfContent = StringIO(getPDFContent(mypdf))\n",
      "for buf in pdfContent:\n",
      "    print(buf)"
     ],
     "language": "python",
     "metadata": {},
     "outputs": [
      {
       "ename": "NameError",
       "evalue": "name 'mypdf' is not defined",
       "output_type": "pyerr",
       "traceback": [
        "\u001b[1;31m---------------------------------------------------------------------------\u001b[0m\n\u001b[1;31mNameError\u001b[0m                                 Traceback (most recent call last)",
        "\u001b[1;32m<ipython-input-1-f52bc49e706f>\u001b[0m in \u001b[0;36m<module>\u001b[1;34m()\u001b[0m\n\u001b[0;32m      9\u001b[0m     \u001b[1;32mreturn\u001b[0m\u001b[1;33m(\u001b[0m\u001b[0mcontent\u001b[0m\u001b[1;33m)\u001b[0m\u001b[1;33m\u001b[0m\u001b[0m\n\u001b[0;32m     10\u001b[0m \u001b[1;33m\u001b[0m\u001b[0m\n\u001b[1;32m---> 11\u001b[1;33m \u001b[0mpdfContent\u001b[0m \u001b[1;33m=\u001b[0m \u001b[0mStringIO\u001b[0m\u001b[1;33m(\u001b[0m\u001b[0mgetPDFContent\u001b[0m\u001b[1;33m(\u001b[0m\u001b[0mmypdf\u001b[0m\u001b[1;33m)\u001b[0m\u001b[1;33m)\u001b[0m\u001b[1;33m\u001b[0m\u001b[0m\n\u001b[0m\u001b[0;32m     12\u001b[0m \u001b[1;32mfor\u001b[0m \u001b[0mbuf\u001b[0m \u001b[1;32min\u001b[0m \u001b[0mpdfContent\u001b[0m\u001b[1;33m:\u001b[0m\u001b[1;33m\u001b[0m\u001b[0m\n\u001b[0;32m     13\u001b[0m     \u001b[1;32mprint\u001b[0m\u001b[1;33m(\u001b[0m\u001b[0mbuf\u001b[0m\u001b[1;33m)\u001b[0m\u001b[1;33m\u001b[0m\u001b[0m\n",
        "\u001b[1;31mNameError\u001b[0m: name 'mypdf' is not defined"
       ]
      }
     ],
     "prompt_number": 1
    },
    {
     "cell_type": "code",
     "collapsed": false,
     "input": [
      "from pdfminer.pdfdocument import PDFDocument, PDFNoOutlines\n",
      "from pdfminer.pdfpage import PDFPage\n",
      "from pdfminer.pdfparser import PDFParser\n",
      "from pdfminer.pdfinterp import PDFResourceManager, PDFPageInterpreter\n",
      "from pdfminer.converter import PDFPageAggregator\n",
      "from pdfminer.layout import LAParams, LTTextBox, LTTextLine, LTFigure, LTImage"
     ],
     "language": "python",
     "metadata": {},
     "outputs": [],
     "prompt_number": 27
    },
    {
     "cell_type": "code",
     "collapsed": false,
     "input": [
      "f = open(mypdf, \"rb\")\n",
      "parser = PDFParser(f)\n",
      "document = PDFDocument(parser)\n",
      "rsc = PDFResourceManager()\n",
      "laparams = LAParams() \n",
      "device = PDFPageAggregator(rsc, laparams=laparams)\n",
      "interpreter = PDFPageInterpreter(rsc, device)\n",
      "for page in PDFPage.create_pages(document):\n",
      "    interpreter.process_page(page)\n",
      "    layout = device.get_result()\n",
      "    print(layout.analyze)\n",
      "print(layout)"
     ],
     "language": "python",
     "metadata": {},
     "outputs": [
      {
       "output_type": "stream",
       "stream": "stdout",
       "text": [
        "<bound method LTPage.analyze of <LTPage(1) 0.000,0.000,561.100,817.800 rotate=0>>\n",
        "<bound method LTPage.analyze of <LTPage(2) 0.000,0.000,561.100,817.800 rotate=0>>"
       ]
      },
      {
       "output_type": "stream",
       "stream": "stdout",
       "text": [
        "\n",
        "<LTPage(2) 0.000,0.000,561.100,817.800 rotate=0>\n"
       ]
      }
     ],
     "prompt_number": 15
    },
    {
     "cell_type": "code",
     "collapsed": false,
     "input": [
      "def with_pdf (pdf_doc, pdf_pwd, fn, *args):\n",
      "    \"\"\"Open the pdf document, and apply the function, returning the results\"\"\"\n",
      "    result = None\n",
      "    try:\n",
      "        fp = open(pdf_doc, 'rb')\n",
      "        parser = PDFParser(fp)\n",
      "        doc = PDFDocument(parser)\n",
      "        parser.set_document(doc)\n",
      "        doc.initialize(pdf_pwd)\n",
      "        if doc.is_extractable:\n",
      "            result = fn(doc, *args)\n",
      "        fp.close()\n",
      "    except IOError:\n",
      "        pass\n",
      "    return result\n",
      "\n",
      "'''\n",
      "def _parse_pages (doc):\n",
      "    rsrcmgr = PDFResourceManager()\n",
      "    laparams = LAParams()\n",
      "    device = PDFPageAggregator(rsrcmgr, laparams=laparams)\n",
      "    interpreter = PDFPageInterpreter(rsrcmgr, device)\n",
      "    for page in PDFPage.create_pages(doc):\n",
      "        interpreter.process_page(page)\n",
      "        layout = device.get_result()\n",
      "        for level,title,dest,a,se in doc.get_outlines():\n",
      "            print(\"{} {}\".format(level, title))\n",
      "            \n",
      "'''\n",
      "\n",
      "def _parse_toc(doc):\n",
      "    toc = []\n",
      "    try:\n",
      "        outlines = doc.get_outlines()\n",
      "        for(level, title, dest, a, se) in outlines:\n",
      "            toc.append((level,title))\n",
      "    except PDFNoOutlines:\n",
      "        pass\n",
      "    return toc\n",
      "\n",
      "\n",
      "def get_pages (pdf_doc, pdf_pwd=''):\n",
      "    \"\"\"Process each of the pages in this pdf file\"\"\"\n",
      "    with_pdf(pdf_doc, pdf_pwd, _parse_pages)\n",
      "\n",
      "def get_toc (pdf_doc, pdf_pwd=''):\n",
      "    \"\"\"Return the table of contents (toc), if any, for this pdf file\"\"\"\n",
      "    return with_pdf(pdf_doc, pdf_pwd, _parse_toc)\n",
      "\n",
      "get_pages(mypdf)"
     ],
     "language": "python",
     "metadata": {},
     "outputs": [
      {
       "ename": "PDFNoOutlines",
       "evalue": "",
       "output_type": "pyerr",
       "traceback": [
        "\u001b[1;31m---------------------------------------------------------------------------\u001b[0m\n\u001b[1;31mPDFNoOutlines\u001b[0m                             Traceback (most recent call last)",
        "\u001b[1;32m<ipython-input-39-4c88cdc1dfad>\u001b[0m in \u001b[0;36m<module>\u001b[1;34m()\u001b[0m\n\u001b[0;32m     37\u001b[0m     \u001b[1;32mreturn\u001b[0m \u001b[0mwith_pdf\u001b[0m\u001b[1;33m(\u001b[0m\u001b[0mpdf_doc\u001b[0m\u001b[1;33m,\u001b[0m \u001b[0mpdf_pwd\u001b[0m\u001b[1;33m,\u001b[0m \u001b[0m_parse_toc\u001b[0m\u001b[1;33m)\u001b[0m\u001b[1;33m\u001b[0m\u001b[0m\n\u001b[0;32m     38\u001b[0m \u001b[1;33m\u001b[0m\u001b[0m\n\u001b[1;32m---> 39\u001b[1;33m \u001b[0mget_pages\u001b[0m\u001b[1;33m(\u001b[0m\u001b[0mmypdf\u001b[0m\u001b[1;33m)\u001b[0m\u001b[1;33m\u001b[0m\u001b[0m\n\u001b[0m",
        "\u001b[1;32m<ipython-input-39-4c88cdc1dfad>\u001b[0m in \u001b[0;36mget_pages\u001b[1;34m(pdf_doc, pdf_pwd)\u001b[0m\n\u001b[0;32m     31\u001b[0m \u001b[1;32mdef\u001b[0m \u001b[0mget_pages\u001b[0m \u001b[1;33m(\u001b[0m\u001b[0mpdf_doc\u001b[0m\u001b[1;33m,\u001b[0m \u001b[0mpdf_pwd\u001b[0m\u001b[1;33m=\u001b[0m\u001b[1;34m''\u001b[0m\u001b[1;33m)\u001b[0m\u001b[1;33m:\u001b[0m\u001b[1;33m\u001b[0m\u001b[0m\n\u001b[0;32m     32\u001b[0m     \u001b[1;34m\"\"\"Process each of the pages in this pdf file\"\"\"\u001b[0m\u001b[1;33m\u001b[0m\u001b[0m\n\u001b[1;32m---> 33\u001b[1;33m     \u001b[0mwith_pdf\u001b[0m\u001b[1;33m(\u001b[0m\u001b[0mpdf_doc\u001b[0m\u001b[1;33m,\u001b[0m \u001b[0mpdf_pwd\u001b[0m\u001b[1;33m,\u001b[0m \u001b[0m_parse_pages\u001b[0m\u001b[1;33m)\u001b[0m\u001b[1;33m\u001b[0m\u001b[0m\n\u001b[0m\u001b[0;32m     34\u001b[0m \u001b[1;33m\u001b[0m\u001b[0m\n\u001b[0;32m     35\u001b[0m \u001b[1;32mdef\u001b[0m \u001b[0mget_toc\u001b[0m \u001b[1;33m(\u001b[0m\u001b[0mpdf_doc\u001b[0m\u001b[1;33m,\u001b[0m \u001b[0mpdf_pwd\u001b[0m\u001b[1;33m=\u001b[0m\u001b[1;34m''\u001b[0m\u001b[1;33m)\u001b[0m\u001b[1;33m:\u001b[0m\u001b[1;33m\u001b[0m\u001b[0m\n",
        "\u001b[1;32m<ipython-input-39-4c88cdc1dfad>\u001b[0m in \u001b[0;36mwith_pdf\u001b[1;34m(pdf_doc, pdf_pwd, fn, *args)\u001b[0m\n\u001b[0;32m      8\u001b[0m         \u001b[0mparser\u001b[0m\u001b[1;33m.\u001b[0m\u001b[0mset_document\u001b[0m\u001b[1;33m(\u001b[0m\u001b[0mdoc\u001b[0m\u001b[1;33m)\u001b[0m\u001b[1;33m\u001b[0m\u001b[0m\n\u001b[0;32m      9\u001b[0m         \u001b[1;32mif\u001b[0m \u001b[0mdoc\u001b[0m\u001b[1;33m.\u001b[0m\u001b[0mis_extractable\u001b[0m\u001b[1;33m:\u001b[0m\u001b[1;33m\u001b[0m\u001b[0m\n\u001b[1;32m---> 10\u001b[1;33m             \u001b[0mresult\u001b[0m \u001b[1;33m=\u001b[0m \u001b[0mfn\u001b[0m\u001b[1;33m(\u001b[0m\u001b[0mdoc\u001b[0m\u001b[1;33m,\u001b[0m \u001b[1;33m*\u001b[0m\u001b[0margs\u001b[0m\u001b[1;33m)\u001b[0m\u001b[1;33m\u001b[0m\u001b[0m\n\u001b[0m\u001b[0;32m     11\u001b[0m         \u001b[1;32melse\u001b[0m\u001b[1;33m:\u001b[0m\u001b[1;33m\u001b[0m\u001b[0m\n\u001b[0;32m     12\u001b[0m             \u001b[1;32mprint\u001b[0m\u001b[1;33m(\u001b[0m\u001b[1;34m\"doc is not extractable\"\u001b[0m\u001b[1;33m)\u001b[0m\u001b[1;33m\u001b[0m\u001b[0m\n",
        "\u001b[1;32m<ipython-input-39-4c88cdc1dfad>\u001b[0m in \u001b[0;36m_parse_pages\u001b[1;34m(doc)\u001b[0m\n\u001b[0;32m     25\u001b[0m         \u001b[0minterpreter\u001b[0m\u001b[1;33m.\u001b[0m\u001b[0mprocess_page\u001b[0m\u001b[1;33m(\u001b[0m\u001b[0mpage\u001b[0m\u001b[1;33m)\u001b[0m\u001b[1;33m\u001b[0m\u001b[0m\n\u001b[0;32m     26\u001b[0m         \u001b[0mlayout\u001b[0m \u001b[1;33m=\u001b[0m \u001b[0mdevice\u001b[0m\u001b[1;33m.\u001b[0m\u001b[0mget_result\u001b[0m\u001b[1;33m(\u001b[0m\u001b[1;33m)\u001b[0m\u001b[1;33m\u001b[0m\u001b[0m\n\u001b[1;32m---> 27\u001b[1;33m         \u001b[1;32mfor\u001b[0m \u001b[0mlevel\u001b[0m\u001b[1;33m,\u001b[0m\u001b[0mtitle\u001b[0m\u001b[1;33m,\u001b[0m\u001b[0mdest\u001b[0m\u001b[1;33m,\u001b[0m\u001b[0ma\u001b[0m\u001b[1;33m,\u001b[0m\u001b[0mse\u001b[0m \u001b[1;32min\u001b[0m \u001b[0mdoc\u001b[0m\u001b[1;33m.\u001b[0m\u001b[0mget_outlines\u001b[0m\u001b[1;33m(\u001b[0m\u001b[1;33m)\u001b[0m\u001b[1;33m:\u001b[0m\u001b[1;33m\u001b[0m\u001b[0m\n\u001b[0m\u001b[0;32m     28\u001b[0m             \u001b[1;32mprint\u001b[0m\u001b[1;33m(\u001b[0m\u001b[1;34m\"{} {}\"\u001b[0m\u001b[1;33m.\u001b[0m\u001b[0mformat\u001b[0m\u001b[1;33m(\u001b[0m\u001b[0mlevel\u001b[0m\u001b[1;33m,\u001b[0m \u001b[0mtitle\u001b[0m\u001b[1;33m)\u001b[0m\u001b[1;33m)\u001b[0m\u001b[1;33m\u001b[0m\u001b[0m\n\u001b[0;32m     29\u001b[0m \u001b[1;33m\u001b[0m\u001b[0m\n",
        "\u001b[1;32m/home/oier/.virtualenvs/analisis2/local/lib/python2.7/site-packages/pdfminer/pdfdocument.pyc\u001b[0m in \u001b[0;36mget_outlines\u001b[1;34m(self)\u001b[0m\n\u001b[0;32m    688\u001b[0m     \u001b[1;32mdef\u001b[0m \u001b[0mget_outlines\u001b[0m\u001b[1;33m(\u001b[0m\u001b[0mself\u001b[0m\u001b[1;33m)\u001b[0m\u001b[1;33m:\u001b[0m\u001b[1;33m\u001b[0m\u001b[0m\n\u001b[0;32m    689\u001b[0m         \u001b[1;32mif\u001b[0m \u001b[1;34m'Outlines'\u001b[0m \u001b[1;32mnot\u001b[0m \u001b[1;32min\u001b[0m \u001b[0mself\u001b[0m\u001b[1;33m.\u001b[0m\u001b[0mcatalog\u001b[0m\u001b[1;33m:\u001b[0m\u001b[1;33m\u001b[0m\u001b[0m\n\u001b[1;32m--> 690\u001b[1;33m             \u001b[1;32mraise\u001b[0m \u001b[0mPDFNoOutlines\u001b[0m\u001b[1;33m\u001b[0m\u001b[0m\n\u001b[0m\u001b[0;32m    691\u001b[0m \u001b[1;33m\u001b[0m\u001b[0m\n\u001b[0;32m    692\u001b[0m         \u001b[1;32mdef\u001b[0m \u001b[0msearch\u001b[0m\u001b[1;33m(\u001b[0m\u001b[0mentry\u001b[0m\u001b[1;33m,\u001b[0m \u001b[0mlevel\u001b[0m\u001b[1;33m)\u001b[0m\u001b[1;33m:\u001b[0m\u001b[1;33m\u001b[0m\u001b[0m\n",
        "\u001b[1;31mPDFNoOutlines\u001b[0m: "
       ]
      }
     ],
     "prompt_number": 39
    },
    {
     "cell_type": "code",
     "collapsed": false,
     "input": [
      "import sys\n",
      "import os\n",
      "from binascii import b2a_hex\n",
      "###\n",
      "### pdf-miner requirements\n",
      "###\n",
      "from pdfminer.pdfparser import PDFParser\n",
      "from pdfminer.pdfdocument import PDFDocument, PDFNoOutlines\n",
      "from pdfminer.pdfpage import PDFPage\n",
      "from pdfminer.pdfinterp import PDFResourceManager, PDFPageInterpreter\n",
      "from pdfminer.converter import PDFPageAggregator\n",
      "from pdfminer.layout import LAParams, LTTextBox, LTTextLine, LTFigure, LTImage, LTChar\n",
      "\n",
      "def with_pdf (pdf_doc, fn, pdf_pwd, *args):\n",
      "    \"\"\"Open the pdf document, and apply the function, returning the results\"\"\"\n",
      "    result = None\n",
      "    try:\n",
      "        # open the pdf file\n",
      "        fp = open(pdf_doc, 'rb')\n",
      "        # create a parser object associated with the file object\n",
      "        parser = PDFParser(fp)\n",
      "        # create a PDFDocument object that stores the document structure\n",
      "        doc = PDFDocument(parser, pdf_pwd)\n",
      "        # connect the parser and document objects\n",
      "        parser.set_document(doc)\n",
      "        # supply the password for initialization\n",
      "        #doc.initialize(pdf_pwd)\n",
      "        if doc.is_extractable:\n",
      "            # apply the function and return the result\n",
      "            result = fn(doc, *args)\n",
      "        # close the pdf file\n",
      "        fp.close()\n",
      "    except IOError:\n",
      "        # the file doesn't exist or similar problem\n",
      "        pass\n",
      "    return result\n",
      "\n",
      "###\n",
      "### Table of Contents\n",
      "###\n",
      "def _parse_toc (doc):\n",
      "    \"\"\"With an open PDFDocument object, get the table of contents (toc) data\n",
      "    [this is a higher-order function to be passed to with_pdf()]\"\"\"\n",
      "    toc = []\n",
      "    try:\n",
      "        outlines = doc.get_outlines()\n",
      "        for (level,title,dest,a,se) in outlines:\n",
      "            toc.append( (level, title) )\n",
      "    except PDFNoOutlines:\n",
      "        print(\"NO OUTLINES\")\n",
      "    return toc\n",
      "\n",
      "def get_toc (pdf_doc, pdf_pwd=''):\n",
      "    \"\"\"Return the table of contents (toc), if any, for this pdf file\"\"\"\n",
      "    return with_pdf(pdf_doc, _parse_toc, pdf_pwd)\n",
      "###\n",
      "### Extracting Images\n",
      "###\n",
      "def write_file (folder, filename, filedata, flags='w'):\n",
      "    \"\"\"Write the file data to the folder and filename combination\n",
      "    (flags: 'w' for write text, 'wb' for write binary, use 'a' instead of 'w' for append)\"\"\"\n",
      "    result = False\n",
      "    if os.path.isdir(folder):\n",
      "        try:\n",
      "            file_obj = open(os.path.join(folder, filename), flags)\n",
      "            file_obj.write(filedata)\n",
      "            file_obj.close()\n",
      "            result = True\n",
      "        except IOError:\n",
      "            pass\n",
      "    return result\n",
      "\n",
      "def determine_image_type (stream_first_4_bytes):\n",
      "    \"\"\"Find out the image file type based on the magic number comparison of the first 4 (or 2) bytes\"\"\"\n",
      "    file_type = None\n",
      "    bytes_as_hex = b2a_hex(stream_first_4_bytes)\n",
      "    if bytes_as_hex.startswith('ffd8'):\n",
      "        file_type = '.jpeg'\n",
      "    elif bytes_as_hex == '89504e47':\n",
      "        file_type = '.png'\n",
      "    elif bytes_as_hex == '47494638':\n",
      "        file_type = '.gif'\n",
      "    elif bytes_as_hex.startswith('424d'):\n",
      "        file_type = '.bmp'\n",
      "    return file_type\n",
      "\n",
      "def save_image (lt_image, page_number, images_folder):\n",
      "    \"\"\"Try to save the image data from this LTImage object, and return the file name, if successful\"\"\"\n",
      "    result = None\n",
      "    if lt_image.stream:\n",
      "        file_stream = lt_image.stream.get_rawdata()\n",
      "    if file_stream:\n",
      "        file_ext = determine_image_type(file_stream[0:4])\n",
      "    if file_ext:\n",
      "        file_name = ''.join([str(page_number), '_', lt_image.name, file_ext])\n",
      "    if write_file(images_folder, file_name, file_stream, flags='wb'):\n",
      "        result = file_name\n",
      "    return result\n",
      "###\n",
      "### Extracting Text\n",
      "###\n",
      "def to_bytestring (s, enc='utf-8'):\n",
      "    \"\"\"Convert the given unicode string to a bytestring, using the standard encoding,\n",
      "    unless it's already a bytestring\"\"\"\n",
      "    if s:\n",
      "        if isinstance(s, str):\n",
      "            return s\n",
      "        else:\n",
      "            return s.encode(enc)\n",
      "        \n",
      "def update_page_text_hash (h, lt_obj, pct=0.2):\n",
      "    \"\"\"Use the bbox x0,x1 values within pct% to produce lists of associated text within the hash\"\"\"\n",
      "    x0 = lt_obj.bbox[0]\n",
      "    x1 = lt_obj.bbox[2]\n",
      "    key_found = False\n",
      "    for k, v in h.items():\n",
      "        hash_x0 = k[0]\n",
      "        if x0 >= (hash_x0 * (1.0-pct)) and (hash_x0 * (1.0+pct)) >= x0:\n",
      "            hash_x1 = k[1]\n",
      "            if x1 >= (hash_x1 * (1.0-pct)) and (hash_x1 * (1.0+pct)) >= x1:\n",
      "# the text inside this LT* object was positioned at the same\n",
      "# width as a prior series of text, so it belongs together\n",
      "                key_found = True\n",
      "                v.append(to_bytestring(lt_obj.get_text()))\n",
      "                h[k] = v\n",
      "    if not key_found:\n",
      "# the text, based on width, is a new series,\n",
      "# so it gets its own series (entry in the hash)\n",
      "        h[(x0,x1)] = [to_bytestring(lt_obj.get_text())]\n",
      "    return h\n",
      "\n",
      "def parse_lt_objs (lt_objs, page_number, images_folder, text=[]):\n",
      "    \"\"\"Iterate through the list of LT* objects and capture the text or image data contained in each\"\"\"\n",
      "    text_content = []\n",
      "    page_text = {} # k=(x0, x1) of the bbox, v=list of text strings within that bbox width (physical column)\n",
      "    for lt_obj in lt_objs:\n",
      "        if isinstance(lt_obj, LTTextBox) or isinstance(lt_obj, LTTextLine):\n",
      "            # text, so arrange is logically based on its column width\n",
      "            page_text = update_page_text_hash(page_text, lt_obj)\n",
      "        elif isinstance(lt_obj, LTImage):\n",
      "            # an image, so save it to the designated folder, and note its place in the text\n",
      "            saved_file = save_image(lt_obj, page_number, images_folder)\n",
      "            if saved_file:\n",
      "                # use html style <img /> tag to mark the position of the image within the text\n",
      "                text_content.append('<img src=\"'+os.path.join(images_folder, saved_file)+'\" />')\n",
      "            else:\n",
      "                print >> sys.stderr, \"error saving image on page\", page_number, lt_obj.__repr__\n",
      "        elif isinstance(lt_obj, LTFigure):\n",
      "            # LTFigure objects are containers for other LT* objects, so recurse through the children\n",
      "            text_content.append(parse_lt_objs(lt_obj, page_number, images_folder, text_content))\n",
      "    for k, v in sorted([(key,value) for (key,value) in page_text.items()]):\n",
      "        # sort the page_text hash by the keys (x0,x1 values of the bbox),\n",
      "        # which produces a top-down, left-to-right sequence of related columns\n",
      "        text_content.append(''.join(v))\n",
      "    return '\\n'.join(text_content)\n",
      "###\n",
      "### Processing Pages\n",
      "###\n",
      "def _parse_pages (doc, images_folder):\n",
      "    \"\"\"With an open PDFDocument object, get the pages and parse each one\n",
      "    [this is a higher-order function to be passed to with_pdf()]\"\"\"\n",
      "    rsrcmgr = PDFResourceManager()\n",
      "    laparams = LAParams()\n",
      "    device = PDFPageAggregator(rsrcmgr, laparams=laparams)\n",
      "    interpreter = PDFPageInterpreter(rsrcmgr, device)\n",
      "    text_content = []\n",
      "    for i, page in enumerate(PDFPage.create_pages(doc)):\n",
      "        interpreter.process_page(page)\n",
      "        # receive the LTPage object for this page\n",
      "        layout = device.get_result()\n",
      "        # layout is an LTPage object which may contain child objects like LTTextBox, LTFigure, LTImage, etc.\n",
      "        text_content.append(parse_lt_objs(layout, (i+1), images_folder))\n",
      "    return text_content\n",
      "\n",
      "def get_pages (pdf_doc, pdf_pwd='', images_folder='/tmp'):\n",
      "    \"\"\"Process each of the pages in this pdf file and return a list of strings representing the text found in each page\"\"\"\n",
      "    return with_pdf(pdf_doc, _parse_pages, pdf_pwd, *tuple([images_folder]))"
     ],
     "language": "python",
     "metadata": {},
     "outputs": [],
     "prompt_number": 17
    },
    {
     "cell_type": "code",
     "collapsed": false,
     "input": [
      "toc = get_toc(mypdf)\n",
      "toc"
     ],
     "language": "python",
     "metadata": {},
     "outputs": [
      {
       "output_type": "stream",
       "stream": "stdout",
       "text": [
        "NO OUTLINES\n"
       ]
      },
      {
       "metadata": {},
       "output_type": "pyout",
       "prompt_number": 18,
       "text": [
        "[]"
       ]
      }
     ],
     "prompt_number": 18
    },
    {
     "cell_type": "code",
     "collapsed": false,
     "input": [
      "get_pages(mypdf)"
     ],
     "language": "python",
     "metadata": {},
     "outputs": [
      {
       "ename": "UnicodeDecodeError",
       "evalue": "'ascii' codec can't decode byte 0xc3 in position 5: ordinal not in range(128)",
       "output_type": "pyerr",
       "traceback": [
        "\u001b[1;31m---------------------------------------------------------------------------\u001b[0m\n\u001b[1;31mUnicodeDecodeError\u001b[0m                        Traceback (most recent call last)",
        "\u001b[1;32m<ipython-input-13-5b711c2f213e>\u001b[0m in \u001b[0;36m<module>\u001b[1;34m()\u001b[0m\n\u001b[1;32m----> 1\u001b[1;33m \u001b[0mget_pages\u001b[0m\u001b[1;33m(\u001b[0m\u001b[0mmypdf\u001b[0m\u001b[1;33m)\u001b[0m\u001b[1;33m\u001b[0m\u001b[0m\n\u001b[0m",
        "\u001b[1;32m<ipython-input-12-0cc7fe5f3615>\u001b[0m in \u001b[0;36mget_pages\u001b[1;34m(pdf_doc, pdf_pwd, images_folder)\u001b[0m\n\u001b[0;32m    175\u001b[0m \u001b[1;32mdef\u001b[0m \u001b[0mget_pages\u001b[0m \u001b[1;33m(\u001b[0m\u001b[0mpdf_doc\u001b[0m\u001b[1;33m,\u001b[0m \u001b[0mpdf_pwd\u001b[0m\u001b[1;33m=\u001b[0m\u001b[1;34m''\u001b[0m\u001b[1;33m,\u001b[0m \u001b[0mimages_folder\u001b[0m\u001b[1;33m=\u001b[0m\u001b[1;34m'/tmp'\u001b[0m\u001b[1;33m)\u001b[0m\u001b[1;33m:\u001b[0m\u001b[1;33m\u001b[0m\u001b[0m\n\u001b[0;32m    176\u001b[0m     \u001b[1;34m\"\"\"Process each of the pages in this pdf file and return a list of strings representing the text found in each page\"\"\"\u001b[0m\u001b[1;33m\u001b[0m\u001b[0m\n\u001b[1;32m--> 177\u001b[1;33m     \u001b[1;32mreturn\u001b[0m \u001b[0mwith_pdf\u001b[0m\u001b[1;33m(\u001b[0m\u001b[0mpdf_doc\u001b[0m\u001b[1;33m,\u001b[0m \u001b[0m_parse_pages\u001b[0m\u001b[1;33m,\u001b[0m \u001b[0mpdf_pwd\u001b[0m\u001b[1;33m,\u001b[0m \u001b[1;33m*\u001b[0m\u001b[0mtuple\u001b[0m\u001b[1;33m(\u001b[0m\u001b[1;33m[\u001b[0m\u001b[0mimages_folder\u001b[0m\u001b[1;33m]\u001b[0m\u001b[1;33m)\u001b[0m\u001b[1;33m)\u001b[0m\u001b[1;33m\u001b[0m\u001b[0m\n\u001b[0m",
        "\u001b[1;32m<ipython-input-12-0cc7fe5f3615>\u001b[0m in \u001b[0;36mwith_pdf\u001b[1;34m(pdf_doc, fn, pdf_pwd, *args)\u001b[0m\n\u001b[0;32m     28\u001b[0m         \u001b[1;32mif\u001b[0m \u001b[0mdoc\u001b[0m\u001b[1;33m.\u001b[0m\u001b[0mis_extractable\u001b[0m\u001b[1;33m:\u001b[0m\u001b[1;33m\u001b[0m\u001b[0m\n\u001b[0;32m     29\u001b[0m             \u001b[1;31m# apply the function and return the result\u001b[0m\u001b[1;33m\u001b[0m\u001b[1;33m\u001b[0m\u001b[0m\n\u001b[1;32m---> 30\u001b[1;33m             \u001b[0mresult\u001b[0m \u001b[1;33m=\u001b[0m \u001b[0mfn\u001b[0m\u001b[1;33m(\u001b[0m\u001b[0mdoc\u001b[0m\u001b[1;33m,\u001b[0m \u001b[1;33m*\u001b[0m\u001b[0margs\u001b[0m\u001b[1;33m)\u001b[0m\u001b[1;33m\u001b[0m\u001b[0m\n\u001b[0m\u001b[0;32m     31\u001b[0m         \u001b[1;31m# close the pdf file\u001b[0m\u001b[1;33m\u001b[0m\u001b[1;33m\u001b[0m\u001b[0m\n\u001b[0;32m     32\u001b[0m         \u001b[0mfp\u001b[0m\u001b[1;33m.\u001b[0m\u001b[0mclose\u001b[0m\u001b[1;33m(\u001b[0m\u001b[1;33m)\u001b[0m\u001b[1;33m\u001b[0m\u001b[0m\n",
        "\u001b[1;32m<ipython-input-12-0cc7fe5f3615>\u001b[0m in \u001b[0;36m_parse_pages\u001b[1;34m(doc, images_folder)\u001b[0m\n\u001b[0;32m    170\u001b[0m         \u001b[0mlayout\u001b[0m \u001b[1;33m=\u001b[0m \u001b[0mdevice\u001b[0m\u001b[1;33m.\u001b[0m\u001b[0mget_result\u001b[0m\u001b[1;33m(\u001b[0m\u001b[1;33m)\u001b[0m\u001b[1;33m\u001b[0m\u001b[0m\n\u001b[0;32m    171\u001b[0m         \u001b[1;31m# layout is an LTPage object which may contain child objects like LTTextBox, LTFigure, LTImage, etc.\u001b[0m\u001b[1;33m\u001b[0m\u001b[1;33m\u001b[0m\u001b[0m\n\u001b[1;32m--> 172\u001b[1;33m         \u001b[0mtext_content\u001b[0m\u001b[1;33m.\u001b[0m\u001b[0mappend\u001b[0m\u001b[1;33m(\u001b[0m\u001b[0mparse_lt_objs\u001b[0m\u001b[1;33m(\u001b[0m\u001b[0mlayout\u001b[0m\u001b[1;33m,\u001b[0m \u001b[1;33m(\u001b[0m\u001b[0mi\u001b[0m\u001b[1;33m+\u001b[0m\u001b[1;36m1\u001b[0m\u001b[1;33m)\u001b[0m\u001b[1;33m,\u001b[0m \u001b[0mimages_folder\u001b[0m\u001b[1;33m)\u001b[0m\u001b[1;33m)\u001b[0m\u001b[1;33m\u001b[0m\u001b[0m\n\u001b[0m\u001b[0;32m    173\u001b[0m     \u001b[1;32mreturn\u001b[0m \u001b[0mtext_content\u001b[0m\u001b[1;33m\u001b[0m\u001b[0m\n\u001b[0;32m    174\u001b[0m \u001b[1;33m\u001b[0m\u001b[0m\n",
        "\u001b[1;32m<ipython-input-12-0cc7fe5f3615>\u001b[0m in \u001b[0;36mparse_lt_objs\u001b[1;34m(lt_objs, page_number, images_folder, text)\u001b[0m\n\u001b[0;32m    153\u001b[0m         \u001b[1;31m# which produces a top-down, left-to-right sequence of related columns\u001b[0m\u001b[1;33m\u001b[0m\u001b[1;33m\u001b[0m\u001b[0m\n\u001b[0;32m    154\u001b[0m         \u001b[0mtext_content\u001b[0m\u001b[1;33m.\u001b[0m\u001b[0mappend\u001b[0m\u001b[1;33m(\u001b[0m\u001b[1;34m''\u001b[0m\u001b[1;33m.\u001b[0m\u001b[0mjoin\u001b[0m\u001b[1;33m(\u001b[0m\u001b[0mv\u001b[0m\u001b[1;33m)\u001b[0m\u001b[1;33m)\u001b[0m\u001b[1;33m\u001b[0m\u001b[0m\n\u001b[1;32m--> 155\u001b[1;33m     \u001b[1;32mreturn\u001b[0m \u001b[1;34m'\\n'\u001b[0m\u001b[1;33m.\u001b[0m\u001b[0mjoin\u001b[0m\u001b[1;33m(\u001b[0m\u001b[0mtext_content\u001b[0m\u001b[1;33m)\u001b[0m\u001b[1;33m\u001b[0m\u001b[0m\n\u001b[0m\u001b[0;32m    156\u001b[0m \u001b[1;31m###\u001b[0m\u001b[1;33m\u001b[0m\u001b[1;33m\u001b[0m\u001b[0m\n\u001b[0;32m    157\u001b[0m \u001b[1;31m### Processing Pages\u001b[0m\u001b[1;33m\u001b[0m\u001b[1;33m\u001b[0m\u001b[0m\n",
        "\u001b[1;31mUnicodeDecodeError\u001b[0m: 'ascii' codec can't decode byte 0xc3 in position 5: ordinal not in range(128)"
       ]
      }
     ],
     "prompt_number": 13
    }
   ],
   "metadata": {}
  }
 ]
}