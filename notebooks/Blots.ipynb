{
 "metadata": {
  "name": "",
  "signature": "sha256:f9755ed5d6b4567d861d71a74e728679a209b27f26afa0d8b355fd69885d0621"
 },
 "nbformat": 3,
 "nbformat_minor": 0,
 "worksheets": [
  {
   "cells": [
    {
     "cell_type": "code",
     "collapsed": false,
     "input": [
      "import seaborn as sns\n",
      "import numpy as np\n",
      "import pandas as pd\n",
      "import os\n",
      "from datetime import datetime\n",
      "import matplotlib.pyplot as plt\n",
      "%matplotlib inline"
     ],
     "language": "python",
     "metadata": {},
     "outputs": [],
     "prompt_number": 126
    },
    {
     "cell_type": "code",
     "collapsed": false,
     "input": [
      "path = \"/docs/cancer/blood\"\n",
      "file = \"Blood Samples.csv\"\n",
      "file = os.path.join(path,file)\n",
      "data = pd.read_csv(file, sep =\";\")\n",
      "data[\"Fecha\"] = [ datetime.strptime(i, \"%m/%d/%Y\")  for i in data[\"Fecha\"] ]\n",
      "data = data.sort(columns=\"Fecha\")"
     ],
     "language": "python",
     "metadata": {},
     "outputs": [],
     "prompt_number": 180
    },
    {
     "cell_type": "code",
     "collapsed": false,
     "input": [
      "#choose a number\n",
      "[(k,i) for k,i in enumerate(data.columns)]"
     ],
     "language": "python",
     "metadata": {},
     "outputs": [
      {
       "metadata": {},
       "output_type": "pyout",
       "prompt_number": 181,
       "text": [
        "[(0, 'Fecha'),\n",
        " (1, 'Diagnostico'),\n",
        " (2, 'Servicio'),\n",
        " (3, 'Medico'),\n",
        " (4, 'glucosa (mg/dL)'),\n",
        " (5, 'urea (mg/dl)'),\n",
        " (6, 'creatinina (mg/dL)'),\n",
        " (7, 'acido urico (mg/dl)'),\n",
        " (8, 'Filtrado Glomerular estimado (MDRD-4 IDMS) (mL/ min/ 1,73m3)'),\n",
        " (9, 'Trigliceridos (mg/dL)'),\n",
        " (10, 'colesterol (mg/dL)'),\n",
        " (11, 'hdl-colesterol (mg/dL)'),\n",
        " (12, 'ldl-colesterol (mg/dL('),\n",
        " (13, 'sodio(mEq/L)'),\n",
        " (14, 'potasio(mEq/L)'),\n",
        " (15, 'cloro(mEq/L)'),\n",
        " (16, 'calcio (mg/dl)'),\n",
        " (17, 'PCR (mg/L)'),\n",
        " (18, 'fosforo (mg/dl)'),\n",
        " (19, 'proteinas (g/dl)'),\n",
        " (20, 'albumia (g/dl)'),\n",
        " (21, 'alb/glob '),\n",
        " (22, 'alb/prot'),\n",
        " (23, 'ast/got (U/L)'),\n",
        " (24, 'alt/gpt (U/L)'),\n",
        " (25, 'gamma-gt (U/L)'),\n",
        " (26, 'fosf. Alcalina (U/L)'),\n",
        " (27, 'bilirrubina total (mg/dL)'),\n",
        " (28, 'CO2 total (mmol/L)'),\n",
        " (29, 'Lactato (mg/dL)'),\n",
        " (30, 'LDH (U/L)'),\n",
        " (31, 'amilasa (U/L)'),\n",
        " (32, 'hierro (microg/dl)'),\n",
        " (33, 'cap. Fij. Hierro (microg/dl)'),\n",
        " (34, 'transferrina (g/l)'),\n",
        " (35, 'saturac. Transf (%)'),\n",
        " (36, 'ferritina (ng/ml)'),\n",
        " (37, 'albumina(%)'),\n",
        " (38, 'alfa-1 (%)'),\n",
        " (39, 'alfa-2 (%)'),\n",
        " (40, 'beta (%)'),\n",
        " (41, 'Gamma (%)'),\n",
        " (42, 'A/G '),\n",
        " (43, 'albumina (g/dl)'),\n",
        " (44, 'alfa 1 (g/dl)'),\n",
        " (45, 'alfa 2 (g/dl)'),\n",
        " (46, 'beta (g/dl)'),\n",
        " (47, 'gamma (g/dl)'),\n",
        " (48, 'alfa-1-antitripsina (g/L)'),\n",
        " (49, 'n\u00ba leucocitos (miles)'),\n",
        " (50, 'granulocitos (%)'),\n",
        " (51, 'linfocitos (%)'),\n",
        " (52, 'monocitos (%)'),\n",
        " (53, 'eosinofilos (%)'),\n",
        " (54, 'basofilos (%)'),\n",
        " (55, 'n\u00ba hematies (millones)'),\n",
        " (56, 'hematocrito (%)'),\n",
        " (57, 'hemoglobina(g/dl)'),\n",
        " (58, 'VCM (fl)'),\n",
        " (59, 'n\u00ba plaquetas (miles)'),\n",
        " (60, 'granulocitos (miles)'),\n",
        " (61, 'linfocitos (miles)'),\n",
        " (62, 'monocitos (miles)'),\n",
        " (63, 'eosinofilos (miles)'),\n",
        " (64, 'basofilos (miles)'),\n",
        " (65, 'HCM (pg)'),\n",
        " (66, 'CHCM (g/dl)'),\n",
        " (67, 'ADE (%)'),\n",
        " (68, 'VPM (fl)'),\n",
        " (69, 'VSG 1\u00ba  Hora (mm)'),\n",
        " (70, 'Reticulocitos (%)'),\n",
        " (71, 'TSH (microUl/ml)'),\n",
        " (72, 'T4 Libre (ng/dl)'),\n",
        " (73, 'FSH (Ul/L)'),\n",
        " (74, 'LH(Ul/L)'),\n",
        " (75, 'PSA TOTAL (ng/ml)'),\n",
        " (76, '17-Beta-Estradiol (pg/ml)'),\n",
        " (77, 'prolactina (ng(ml)'),\n",
        " (78, 'Testosterona total (ng/ml)'),\n",
        " (79, 'Testosterona libre calculada (pg/ml)'),\n",
        " (80, 'Vitamina D (ng/mL)'),\n",
        " (81, 'dehidroepiandrosterona sulfato (microg/mL)'),\n",
        " (82, 'cortisol (microg/dl)'),\n",
        " (83, 'sex hormone binding globulin (nmol/L)'),\n",
        " (84, 'Antitransglutamin (U/mL)'),\n",
        " (85, 'beta-hcg(mUl/L)'),\n",
        " (86, 'aPTT (seg)'),\n",
        " (87, 'Tiempo protombina (%)'),\n",
        " (88, 'INR'),\n",
        " (89, 'ratio TTPA'),\n",
        " (90, 'Fibrinogeno (d) (mg/dl)'),\n",
        " (91, 'Alfa-fetoproteina (U/ml)'),\n",
        " (92, 'CEA (ng/ml)'),\n",
        " (93, 'Ca 19.9 (U/ml)'),\n",
        " (94, 'ceruloplasmina (g/l)'),\n",
        " (95, 'Test COOMBS Directo'),\n",
        " (96, 'haptoglobina (g/l)'),\n",
        " (97, 'vitamina b12 (pg/ml)'),\n",
        " (98, 'folatos (ng/ml)'),\n",
        " (99, 'pH '),\n",
        " (100, 'pO2 (mmHg)'),\n",
        " (101, 'pCO2 (mmHg)'),\n",
        " (102, 'Bicarbonato (mmol/L)'),\n",
        " (103, 'Exceso de bases (mmol/L)'),\n",
        " (104, 'Saturacion de O2 (%)'),\n",
        " (105, 'FIO2'),\n",
        " (106, 'proteina C (mg/L)'),\n",
        " (107, 'Notas')]"
       ]
      }
     ],
     "prompt_number": 181
    },
    {
     "cell_type": "code",
     "collapsed": false,
     "input": [
      "colname = data.columns[87]"
     ],
     "language": "python",
     "metadata": {},
     "outputs": [],
     "prompt_number": 231
    },
    {
     "cell_type": "code",
     "collapsed": false,
     "input": [
      "m = data[colname]\n",
      "mask = (m.isnull() == False)\n",
      "\n",
      "y = data[colname][mask]\n",
      "x = data[\"Fecha\"][mask]"
     ],
     "language": "python",
     "metadata": {},
     "outputs": [],
     "prompt_number": 232
    },
    {
     "cell_type": "code",
     "collapsed": false,
     "input": [
      "plt.plot(y.values)\n",
      "plt.title(colname)\n",
      "labels = [ i.strftime(\"%Y/%m/%d\") for i in x ]\n",
      "plt.xticks(range(y.size), labels, rotation=90)\n",
      "plt.show()"
     ],
     "language": "python",
     "metadata": {},
     "outputs": [
      {
       "metadata": {},
       "output_type": "display_data",
       "png": "[encoded data removed]",
       "text": [
        "<matplotlib.figure.Figure at 0x7f688f5de5f8>"
       ]
      }
     ],
     "prompt_number": 233
    },
    {
     "cell_type": "code",
     "collapsed": false,
     "input": [
      "y"
     ],
     "language": "python",
     "metadata": {},
     "outputs": [
      {
       "metadata": {},
       "output_type": "pyout",
       "prompt_number": 214,
       "text": [
        "14    1.6\n",
        "23    1.6\n",
        "13    1.9\n",
        "24    1.9\n",
        "11    2.5\n",
        "9     2.2\n",
        "5     4.4\n",
        "2     4.2\n",
        "1     4.8\n",
        "Name: CEA (ng/ml), dtype: float64"
       ]
      }
     ],
     "prompt_number": 214
    },
    {
     "cell_type": "code",
     "collapsed": false,
     "input": [
      "x"
     ],
     "language": "python",
     "metadata": {},
     "outputs": [
      {
       "metadata": {},
       "output_type": "pyout",
       "prompt_number": 215,
       "text": [
        "14   2011-06-29\n",
        "23   2011-06-30\n",
        "13   2011-07-07\n",
        "24   2011-07-08\n",
        "11   2011-12-22\n",
        "9    2012-05-28\n",
        "5    2012-12-20\n",
        "2    2013-07-05\n",
        "1    2013-09-18\n",
        "Name: Fecha, dtype: datetime64[ns]"
       ]
      }
     ],
     "prompt_number": 215
    },
    {
     "cell_type": "code",
     "collapsed": false,
     "input": [],
     "language": "python",
     "metadata": {},
     "outputs": []
    }
   ],
   "metadata": {}
  }
 ]
}