{
 "metadata": {
  "name": "",
  "signature": "sha256:fe6f0adafdc4101c6d3eefdd81a65f99e2a7abd561f28ad7a0cc8d0f161a072f"
 },
 "nbformat": 3,
 "nbformat_minor": 0,
 "worksheets": [
  {
   "cells": [
    {
     "cell_type": "code",
     "collapsed": false,
     "input": [
      "import seaborn as sns\n",
      "import numpy as np\n",
      "import pandas as pd\n",
      "import os\n",
      "from datetime import datetime\n",
      "import matplotlib.pyplot as plt\n",
      "from sklearn import linear_model\n",
      "%matplotlib inline"
     ],
     "language": "python",
     "metadata": {},
     "outputs": [],
     "prompt_number": 1
    },
    {
     "cell_type": "code",
     "collapsed": false,
     "input": [
      "path = \"/docs/cancer/blood\"\n",
      "path = \"/home/oier/GDrive/researchoier@gmail.com/blood/csv/\"\n",
      "file = \"Blood Samples.csv\"\n",
      "file = os.path.join(path,file)\n",
      "data = pd.read_csv(file, sep =\";\")\n",
      "data[\"Fecha\"] = [ datetime.strptime(i, \"%m/%d/%Y\")  for i in data[\"Fecha\"] ]\n",
      "data = data.sort(columns=\"Fecha\")"
     ],
     "language": "python",
     "metadata": {},
     "outputs": [],
     "prompt_number": 2
    },
    {
     "cell_type": "code",
     "collapsed": false,
     "input": [
      "#choose a number\n",
      "[(k,i) for k,i in enumerate(data.columns)]"
     ],
     "language": "python",
     "metadata": {},
     "outputs": [
      {
       "metadata": {},
       "output_type": "pyout",
       "prompt_number": 3,
       "text": [
        "[(0, 'Fecha'),\n",
        " (1, 'Diagnostico'),\n",
        " (2, 'Servicio'),\n",
        " (3, 'Medico'),\n",
        " (4, 'glucosa (mg/dL)'),\n",
        " (5, 'urea (mg/dl)'),\n",
        " (6, 'creatinina (mg/dL)'),\n",
        " (7, 'acido urico (mg/dl)'),\n",
        " (8, 'Filtrado Glomerular estimado (MDRD-4 IDMS) (mL/ min/ 1.73m3)'),\n",
        " (9, 'Trigliceridos (mg/dL)'),\n",
        " (10, 'colesterol (mg/dL)'),\n",
        " (11, 'hdl-colesterol (mg/dL)'),\n",
        " (12, 'ldl-colesterol (mg/dL)'),\n",
        " (13, 'sodio(mEq/L)'),\n",
        " (14, 'potasio(mEq/L)'),\n",
        " (15, 'cloro(mEq/L)'),\n",
        " (16, 'calcio (mg/dl)'),\n",
        " (17, 'PCR (mg/L)'),\n",
        " (18, 'fosforo (mg/dl)'),\n",
        " (19, 'proteinas (g/dl)'),\n",
        " (20, 'albumia (g/dl)'),\n",
        " (21, 'alb/glob '),\n",
        " (22, 'alb/prot'),\n",
        " (23, 'ast/got (U/L)'),\n",
        " (24, 'alt/gpt (U/L)'),\n",
        " (25, 'gamma-gt (U/L)'),\n",
        " (26, 'fosf. Alcalina (U/L)'),\n",
        " (27, 'bilirrubina total (mg/dL)'),\n",
        " (28, 'CO2 total (mmol/L)'),\n",
        " (29, 'Lactato (mg/dL)'),\n",
        " (30, 'LDH (U/L)'),\n",
        " (31, 'amilasa (U/L)'),\n",
        " (32, 'hierro (microg/dl)'),\n",
        " (33, 'cap. Fij. Hierro (microg/dl)'),\n",
        " (34, 'transferrina (g/l)'),\n",
        " (35, 'saturac. Transf (%)'),\n",
        " (36, 'ferritina (ng/ml)'),\n",
        " (37, 'albumina(%)'),\n",
        " (38, 'alfa-1 (%)'),\n",
        " (39, 'alfa-2 (%)'),\n",
        " (40, 'beta (%)'),\n",
        " (41, 'Gamma (%)'),\n",
        " (42, 'A/G '),\n",
        " (43, 'albumina (g/dl)'),\n",
        " (44, 'alfa 1 (g/dl)'),\n",
        " (45, 'alfa 2 (g/dl)'),\n",
        " (46, 'beta (g/dl)'),\n",
        " (47, 'gamma (g/dl)'),\n",
        " (48, 'alfa-1-antitripsina (g/L)'),\n",
        " (49, 'n\u00ba leucocitos (miles)'),\n",
        " (50, 'neutrofilos (%)'),\n",
        " (51, 'linfocitos (%)'),\n",
        " (52, 'monocitos (%)'),\n",
        " (53, 'eosinofilos (%)'),\n",
        " (54, 'basofilos (%)'),\n",
        " (55, 'n\u00ba hematies (millones)'),\n",
        " (56, 'hematocrito (%)'),\n",
        " (57, 'Granulocitos inmad (%)'),\n",
        " (58, 'Eritroblastos (%)'),\n",
        " (59, 'hemoglobina(g/dl)'),\n",
        " (60, 'VCM (fl)'),\n",
        " (61, 'n\u00ba plaquetas (miles)'),\n",
        " (62, 'neutrofilos (miles)'),\n",
        " (63, 'linfocitos (miles)'),\n",
        " (64, 'monocitos (miles)'),\n",
        " (65, 'eosinofilos (miles)'),\n",
        " (66, 'basofilos (miles)'),\n",
        " (67, 'Granulocitos inmad (miles)'),\n",
        " (68, 'Eritroblastos (miles)'),\n",
        " (69, 'HCM (pg)'),\n",
        " (70, 'CHCM (g/dl)'),\n",
        " (71, 'ADE (%)'),\n",
        " (72, 'VPM (fl)'),\n",
        " (73, 'VSG 1\u00ba  Hora (mm)'),\n",
        " (74, 'Reticulocitos (%)'),\n",
        " (75, 'TSH (microUl/ml)'),\n",
        " (76, 'T4 Libre (ng/dl)'),\n",
        " (77, 'FSH (Ul/L)'),\n",
        " (78, 'LH(Ul/L)'),\n",
        " (79, 'PSA TOTAL (ng/ml)'),\n",
        " (80, '17-Beta-Estradiol (pg/ml)'),\n",
        " (81, 'prolactina (ng(ml)'),\n",
        " (82, 'Testosterona total (ng/ml)'),\n",
        " (83, 'Testosterona libre calculada (pg/ml)'),\n",
        " (84, 'Vitamina D (ng/mL)'),\n",
        " (85, 'dehidroepiandrosterona sulfato (microg/mL)'),\n",
        " (86, 'cortisol (microg/dl)'),\n",
        " (87, 'sex hormone binding globulin (nmol/L)'),\n",
        " (88, 'Antitransglutamin (U/mL)'),\n",
        " (89, 'beta-hcg(mUl/L)'),\n",
        " (90, 'aPTT (seg)'),\n",
        " (91, 'Tiempo protombina (%)'),\n",
        " (92, 'INR'),\n",
        " (93, 'ratio TTPA'),\n",
        " (94, 'Fibrinogeno (d) (mg/dl)'),\n",
        " (95, 'Alfa-fetoproteina (U/ml)'),\n",
        " (96, 'CEA (ng/ml)'),\n",
        " (97, 'Ca 19.9 (U/ml)'),\n",
        " (98, 'ceruloplasmina (g/l)'),\n",
        " (99, 'Test COOMBS Directo'),\n",
        " (100, 'haptoglobina (g/l)'),\n",
        " (101, 'vitamina b12 (pg/ml)'),\n",
        " (102, 'folatos (ng/ml)'),\n",
        " (103, 'pH '),\n",
        " (104, 'pO2 (mmHg)'),\n",
        " (105, 'pCO2 (mmHg)'),\n",
        " (106, 'Bicarbonato (mmol/L)'),\n",
        " (107, 'Exceso de bases (mmol/L)'),\n",
        " (108, 'Saturacion de O2 (%)'),\n",
        " (109, 'FIO2'),\n",
        " (110, 'proteina C (mg/L)'),\n",
        " (111, 'Notas')]"
       ]
      }
     ],
     "prompt_number": 3
    },
    {
     "cell_type": "code",
     "collapsed": false,
     "input": [
      "colname = data.columns[96]"
     ],
     "language": "python",
     "metadata": {},
     "outputs": [],
     "prompt_number": 38
    },
    {
     "cell_type": "code",
     "collapsed": false,
     "input": [
      "m = data[colname]\n",
      "mask = (m.isnull() == False)\n",
      "\n",
      "y = data[colname][mask]\n",
      "x = data[\"Fecha\"][mask]"
     ],
     "language": "python",
     "metadata": {},
     "outputs": [],
     "prompt_number": 39
    },
    {
     "cell_type": "code",
     "collapsed": false,
     "input": [
      "#linear model\n",
      "clf = linear_model.LinearRegression()\n",
      "X = np.arange(len(x)).reshape(len(x),1)\n",
      "Y = y.reshape(len(y),1)\n",
      "line = clf.fit( X , Y ).predict(X)"
     ],
     "language": "python",
     "metadata": {},
     "outputs": [],
     "prompt_number": 40
    },
    {
     "cell_type": "code",
     "collapsed": false,
     "input": [
      "plt.plot(y.values)\n",
      "plt.plot(np.arange(len(x)), line, c=\"r\")\n",
      "plt.title(colname)\n",
      "labels = [ i.strftime(\"%Y/%m/%d\") for i in x ]\n",
      "plt.xticks(range(y.size), labels, rotation=90)\n",
      "plt.show()"
     ],
     "language": "python",
     "metadata": {},
     "outputs": [
      {
       "metadata": {},
       "output_type": "display_data",
       "png": "[encoded data removed]",
       "text": [
        "<matplotlib.figure.Figure at 0x7fcc98f0c198>"
       ]
      }
     ],
     "prompt_number": 41
    },
    {
     "cell_type": "code",
     "collapsed": false,
     "input": [
      "plt.boxplot(y.values[:-1])\n",
      "plt.title(colname)\n",
      "plt.axhline(y.values[-1], color=\"g\")\n",
      "plt.show()"
     ],
     "language": "python",
     "metadata": {},
     "outputs": [
      {
       "metadata": {},
       "output_type": "display_data",
       "png": "[encoded data removed]",
       "text": [
        "<matplotlib.figure.Figure at 0x7fcc98f0c8d0>"
       ]
      }
     ],
     "prompt_number": 44
    },
    {
     "cell_type": "code",
     "collapsed": false,
     "input": [
      "plt.violinplot(y.values[:-1])\n",
      "plt.title(colname)\n",
      "plt.axhline(y.values[-1], color=\"g\")\n",
      "plt.show()"
     ],
     "language": "python",
     "metadata": {},
     "outputs": [
      {
       "metadata": {},
       "output_type": "display_data",
       "png": "[encoded data removed]",
       "text": [
        "<matplotlib.figure.Figure at 0x7fcc98b19be0>"
       ]
      }
     ],
     "prompt_number": 45
    },
    {
     "cell_type": "code",
     "collapsed": false,
     "input": [
      "print (x)\n",
      "print (y)"
     ],
     "language": "python",
     "metadata": {},
     "outputs": [
      {
       "output_type": "stream",
       "stream": "stdout",
       "text": [
        "14   2011-06-29\n",
        "23   2011-06-30\n",
        "13   2011-07-07\n",
        "24   2011-07-08\n",
        "11   2011-12-22\n",
        "9    2012-05-28\n",
        "5    2012-12-20\n",
        "2    2013-07-05\n",
        "1    2013-09-18\n",
        "Name: Fecha, dtype: datetime64[ns]\n",
        "14    1.6\n",
        "23    1.6\n",
        "13    1.9\n",
        "24    1.9\n",
        "11    2.5\n",
        "9     2.2\n",
        "5     4.4\n",
        "2     4.2\n",
        "1     4.8\n",
        "Name: CEA (ng/ml), dtype: float64\n"
       ]
      }
     ],
     "prompt_number": 47
    }
   ],
   "metadata": {}
  }
 ]
}