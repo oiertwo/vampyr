{
 "metadata": {
  "name": "",
  "signature": "sha256:c6671b871f0b33002be410593cac92085e986d86806a71480876e173c0c7f80a"
 },
 "nbformat": 3,
 "nbformat_minor": 0,
 "worksheets": [
  {
   "cells": [
    {
     "cell_type": "code",
     "collapsed": false,
     "input": [
      "import seaborn as sns\n",
      "import numpy as np\n",
      "import pandas as pd\n",
      "import os\n",
      "from datetime import datetime\n",
      "import matplotlib.pyplot as plt\n",
      "from sklearn import linear_model\n",
      "%matplotlib inline"
     ],
     "language": "python",
     "metadata": {},
     "outputs": [],
     "prompt_number": 1
    },
    {
     "cell_type": "code",
     "collapsed": false,
     "input": [
      "path = \"/docs/cancer/blood\"\n",
      "file = \"Blood Samples.csv\"\n",
      "file = os.path.join(path,file)\n",
      "data = pd.read_csv(file, sep =\";\")\n",
      "data[\"Fecha\"] = [ datetime.strptime(i, \"%m/%d/%Y\")  for i in data[\"Fecha\"] ]\n",
      "data = data.sort(columns=\"Fecha\")"
     ],
     "language": "python",
     "metadata": {},
     "outputs": [
      {
       "ename": "OSError",
       "evalue": "File b'/docs/cancer/blood/Blood Samples.csv' does not exist",
       "output_type": "pyerr",
       "traceback": [
        "\u001b[1;31m---------------------------------------------------------------------------\u001b[0m\n\u001b[1;31mOSError\u001b[0m                                   Traceback (most recent call last)",
        "\u001b[1;32m<ipython-input-2-a63387067d72>\u001b[0m in \u001b[0;36m<module>\u001b[1;34m()\u001b[0m\n\u001b[0;32m      2\u001b[0m \u001b[0mfile\u001b[0m \u001b[1;33m=\u001b[0m \u001b[1;34m\"Blood Samples.csv\"\u001b[0m\u001b[1;33m\u001b[0m\u001b[0m\n\u001b[0;32m      3\u001b[0m \u001b[0mfile\u001b[0m \u001b[1;33m=\u001b[0m \u001b[0mos\u001b[0m\u001b[1;33m.\u001b[0m\u001b[0mpath\u001b[0m\u001b[1;33m.\u001b[0m\u001b[0mjoin\u001b[0m\u001b[1;33m(\u001b[0m\u001b[0mpath\u001b[0m\u001b[1;33m,\u001b[0m\u001b[0mfile\u001b[0m\u001b[1;33m)\u001b[0m\u001b[1;33m\u001b[0m\u001b[0m\n\u001b[1;32m----> 4\u001b[1;33m \u001b[0mdata\u001b[0m \u001b[1;33m=\u001b[0m \u001b[0mpd\u001b[0m\u001b[1;33m.\u001b[0m\u001b[0mread_csv\u001b[0m\u001b[1;33m(\u001b[0m\u001b[0mfile\u001b[0m\u001b[1;33m,\u001b[0m \u001b[0msep\u001b[0m \u001b[1;33m=\u001b[0m\u001b[1;34m\";\"\u001b[0m\u001b[1;33m)\u001b[0m\u001b[1;33m\u001b[0m\u001b[0m\n\u001b[0m\u001b[0;32m      5\u001b[0m \u001b[0mdata\u001b[0m\u001b[1;33m[\u001b[0m\u001b[1;34m\"Fecha\"\u001b[0m\u001b[1;33m]\u001b[0m \u001b[1;33m=\u001b[0m \u001b[1;33m[\u001b[0m \u001b[0mdatetime\u001b[0m\u001b[1;33m.\u001b[0m\u001b[0mstrptime\u001b[0m\u001b[1;33m(\u001b[0m\u001b[0mi\u001b[0m\u001b[1;33m,\u001b[0m \u001b[1;34m\"%m/%d/%Y\"\u001b[0m\u001b[1;33m)\u001b[0m  \u001b[1;32mfor\u001b[0m \u001b[0mi\u001b[0m \u001b[1;32min\u001b[0m \u001b[0mdata\u001b[0m\u001b[1;33m[\u001b[0m\u001b[1;34m\"Fecha\"\u001b[0m\u001b[1;33m]\u001b[0m \u001b[1;33m]\u001b[0m\u001b[1;33m\u001b[0m\u001b[0m\n\u001b[0;32m      6\u001b[0m \u001b[0mdata\u001b[0m \u001b[1;33m=\u001b[0m \u001b[0mdata\u001b[0m\u001b[1;33m.\u001b[0m\u001b[0msort\u001b[0m\u001b[1;33m(\u001b[0m\u001b[0mcolumns\u001b[0m\u001b[1;33m=\u001b[0m\u001b[1;34m\"Fecha\"\u001b[0m\u001b[1;33m)\u001b[0m\u001b[1;33m\u001b[0m\u001b[0m\n",
        "\u001b[1;32m/home/oier/.virtualenvs/vampyr/lib/python3.4/site-packages/pandas/io/parsers.py\u001b[0m in \u001b[0;36mparser_f\u001b[1;34m(filepath_or_buffer, sep, dialect, compression, doublequote, escapechar, quotechar, quoting, skipinitialspace, lineterminator, header, index_col, names, prefix, skiprows, skipfooter, skip_footer, na_values, na_fvalues, true_values, false_values, delimiter, converters, dtype, usecols, engine, delim_whitespace, as_recarray, na_filter, compact_ints, use_unsigned, low_memory, buffer_lines, warn_bad_lines, error_bad_lines, keep_default_na, thousands, comment, decimal, parse_dates, keep_date_col, dayfirst, date_parser, memory_map, float_precision, nrows, iterator, chunksize, verbose, encoding, squeeze, mangle_dupe_cols, tupleize_cols, infer_datetime_format, skip_blank_lines)\u001b[0m\n\u001b[0;32m    463\u001b[0m                     skip_blank_lines=skip_blank_lines)\n\u001b[0;32m    464\u001b[0m \u001b[1;33m\u001b[0m\u001b[0m\n\u001b[1;32m--> 465\u001b[1;33m         \u001b[1;32mreturn\u001b[0m \u001b[0m_read\u001b[0m\u001b[1;33m(\u001b[0m\u001b[0mfilepath_or_buffer\u001b[0m\u001b[1;33m,\u001b[0m \u001b[0mkwds\u001b[0m\u001b[1;33m)\u001b[0m\u001b[1;33m\u001b[0m\u001b[0m\n\u001b[0m\u001b[0;32m    466\u001b[0m \u001b[1;33m\u001b[0m\u001b[0m\n\u001b[0;32m    467\u001b[0m     \u001b[0mparser_f\u001b[0m\u001b[1;33m.\u001b[0m\u001b[0m__name__\u001b[0m \u001b[1;33m=\u001b[0m \u001b[0mname\u001b[0m\u001b[1;33m\u001b[0m\u001b[0m\n",
        "\u001b[1;32m/home/oier/.virtualenvs/vampyr/lib/python3.4/site-packages/pandas/io/parsers.py\u001b[0m in \u001b[0;36m_read\u001b[1;34m(filepath_or_buffer, kwds)\u001b[0m\n\u001b[0;32m    239\u001b[0m \u001b[1;33m\u001b[0m\u001b[0m\n\u001b[0;32m    240\u001b[0m     \u001b[1;31m# Create the parser.\u001b[0m\u001b[1;33m\u001b[0m\u001b[1;33m\u001b[0m\u001b[0m\n\u001b[1;32m--> 241\u001b[1;33m     \u001b[0mparser\u001b[0m \u001b[1;33m=\u001b[0m \u001b[0mTextFileReader\u001b[0m\u001b[1;33m(\u001b[0m\u001b[0mfilepath_or_buffer\u001b[0m\u001b[1;33m,\u001b[0m \u001b[1;33m**\u001b[0m\u001b[0mkwds\u001b[0m\u001b[1;33m)\u001b[0m\u001b[1;33m\u001b[0m\u001b[0m\n\u001b[0m\u001b[0;32m    242\u001b[0m \u001b[1;33m\u001b[0m\u001b[0m\n\u001b[0;32m    243\u001b[0m     \u001b[1;32mif\u001b[0m \u001b[1;33m(\u001b[0m\u001b[0mnrows\u001b[0m \u001b[1;32mis\u001b[0m \u001b[1;32mnot\u001b[0m \u001b[1;32mNone\u001b[0m\u001b[1;33m)\u001b[0m \u001b[1;32mand\u001b[0m \u001b[1;33m(\u001b[0m\u001b[0mchunksize\u001b[0m \u001b[1;32mis\u001b[0m \u001b[1;32mnot\u001b[0m \u001b[1;32mNone\u001b[0m\u001b[1;33m)\u001b[0m\u001b[1;33m:\u001b[0m\u001b[1;33m\u001b[0m\u001b[0m\n",
        "\u001b[1;32m/home/oier/.virtualenvs/vampyr/lib/python3.4/site-packages/pandas/io/parsers.py\u001b[0m in \u001b[0;36m__init__\u001b[1;34m(self, f, engine, **kwds)\u001b[0m\n\u001b[0;32m    555\u001b[0m             \u001b[0mself\u001b[0m\u001b[1;33m.\u001b[0m\u001b[0moptions\u001b[0m\u001b[1;33m[\u001b[0m\u001b[1;34m'has_index_names'\u001b[0m\u001b[1;33m]\u001b[0m \u001b[1;33m=\u001b[0m \u001b[0mkwds\u001b[0m\u001b[1;33m[\u001b[0m\u001b[1;34m'has_index_names'\u001b[0m\u001b[1;33m]\u001b[0m\u001b[1;33m\u001b[0m\u001b[0m\n\u001b[0;32m    556\u001b[0m \u001b[1;33m\u001b[0m\u001b[0m\n\u001b[1;32m--> 557\u001b[1;33m         \u001b[0mself\u001b[0m\u001b[1;33m.\u001b[0m\u001b[0m_make_engine\u001b[0m\u001b[1;33m(\u001b[0m\u001b[0mself\u001b[0m\u001b[1;33m.\u001b[0m\u001b[0mengine\u001b[0m\u001b[1;33m)\u001b[0m\u001b[1;33m\u001b[0m\u001b[0m\n\u001b[0m\u001b[0;32m    558\u001b[0m \u001b[1;33m\u001b[0m\u001b[0m\n\u001b[0;32m    559\u001b[0m     \u001b[1;32mdef\u001b[0m \u001b[0m_get_options_with_defaults\u001b[0m\u001b[1;33m(\u001b[0m\u001b[0mself\u001b[0m\u001b[1;33m,\u001b[0m \u001b[0mengine\u001b[0m\u001b[1;33m)\u001b[0m\u001b[1;33m:\u001b[0m\u001b[1;33m\u001b[0m\u001b[0m\n",
        "\u001b[1;32m/home/oier/.virtualenvs/vampyr/lib/python3.4/site-packages/pandas/io/parsers.py\u001b[0m in \u001b[0;36m_make_engine\u001b[1;34m(self, engine)\u001b[0m\n\u001b[0;32m    692\u001b[0m     \u001b[1;32mdef\u001b[0m \u001b[0m_make_engine\u001b[0m\u001b[1;33m(\u001b[0m\u001b[0mself\u001b[0m\u001b[1;33m,\u001b[0m \u001b[0mengine\u001b[0m\u001b[1;33m=\u001b[0m\u001b[1;34m'c'\u001b[0m\u001b[1;33m)\u001b[0m\u001b[1;33m:\u001b[0m\u001b[1;33m\u001b[0m\u001b[0m\n\u001b[0;32m    693\u001b[0m         \u001b[1;32mif\u001b[0m \u001b[0mengine\u001b[0m \u001b[1;33m==\u001b[0m \u001b[1;34m'c'\u001b[0m\u001b[1;33m:\u001b[0m\u001b[1;33m\u001b[0m\u001b[0m\n\u001b[1;32m--> 694\u001b[1;33m             \u001b[0mself\u001b[0m\u001b[1;33m.\u001b[0m\u001b[0m_engine\u001b[0m \u001b[1;33m=\u001b[0m \u001b[0mCParserWrapper\u001b[0m\u001b[1;33m(\u001b[0m\u001b[0mself\u001b[0m\u001b[1;33m.\u001b[0m\u001b[0mf\u001b[0m\u001b[1;33m,\u001b[0m \u001b[1;33m**\u001b[0m\u001b[0mself\u001b[0m\u001b[1;33m.\u001b[0m\u001b[0moptions\u001b[0m\u001b[1;33m)\u001b[0m\u001b[1;33m\u001b[0m\u001b[0m\n\u001b[0m\u001b[0;32m    695\u001b[0m         \u001b[1;32melse\u001b[0m\u001b[1;33m:\u001b[0m\u001b[1;33m\u001b[0m\u001b[0m\n\u001b[0;32m    696\u001b[0m             \u001b[1;32mif\u001b[0m \u001b[0mengine\u001b[0m \u001b[1;33m==\u001b[0m \u001b[1;34m'python'\u001b[0m\u001b[1;33m:\u001b[0m\u001b[1;33m\u001b[0m\u001b[0m\n",
        "\u001b[1;32m/home/oier/.virtualenvs/vampyr/lib/python3.4/site-packages/pandas/io/parsers.py\u001b[0m in \u001b[0;36m__init__\u001b[1;34m(self, src, **kwds)\u001b[0m\n\u001b[0;32m   1059\u001b[0m         \u001b[0mkwds\u001b[0m\u001b[1;33m[\u001b[0m\u001b[1;34m'allow_leading_cols'\u001b[0m\u001b[1;33m]\u001b[0m \u001b[1;33m=\u001b[0m \u001b[0mself\u001b[0m\u001b[1;33m.\u001b[0m\u001b[0mindex_col\u001b[0m \u001b[1;32mis\u001b[0m \u001b[1;32mnot\u001b[0m \u001b[1;32mFalse\u001b[0m\u001b[1;33m\u001b[0m\u001b[0m\n\u001b[0;32m   1060\u001b[0m \u001b[1;33m\u001b[0m\u001b[0m\n\u001b[1;32m-> 1061\u001b[1;33m         \u001b[0mself\u001b[0m\u001b[1;33m.\u001b[0m\u001b[0m_reader\u001b[0m \u001b[1;33m=\u001b[0m \u001b[0m_parser\u001b[0m\u001b[1;33m.\u001b[0m\u001b[0mTextReader\u001b[0m\u001b[1;33m(\u001b[0m\u001b[0msrc\u001b[0m\u001b[1;33m,\u001b[0m \u001b[1;33m**\u001b[0m\u001b[0mkwds\u001b[0m\u001b[1;33m)\u001b[0m\u001b[1;33m\u001b[0m\u001b[0m\n\u001b[0m\u001b[0;32m   1062\u001b[0m \u001b[1;33m\u001b[0m\u001b[0m\n\u001b[0;32m   1063\u001b[0m         \u001b[1;31m# XXX\u001b[0m\u001b[1;33m\u001b[0m\u001b[1;33m\u001b[0m\u001b[0m\n",
        "\u001b[1;32m/home/oier/.virtualenvs/vampyr/lib/python3.4/site-packages/pandas/parser.cpython-34m.so\u001b[0m in \u001b[0;36mpandas.parser.TextReader.__cinit__ (pandas/parser.c:3143)\u001b[1;34m()\u001b[0m\n",
        "\u001b[1;32m/home/oier/.virtualenvs/vampyr/lib/python3.4/site-packages/pandas/parser.cpython-34m.so\u001b[0m in \u001b[0;36mpandas.parser.TextReader._setup_parser_source (pandas/parser.c:5765)\u001b[1;34m()\u001b[0m\n",
        "\u001b[1;31mOSError\u001b[0m: File b'/docs/cancer/blood/Blood Samples.csv' does not exist"
       ]
      }
     ],
     "prompt_number": 2
    },
    {
     "cell_type": "code",
     "collapsed": false,
     "input": [
      "#choose a number\n",
      "[(k,i) for k,i in enumerate(data.columns)]"
     ],
     "language": "python",
     "metadata": {},
     "outputs": [
      {
       "metadata": {},
       "output_type": "pyout",
       "prompt_number": 3,
       "text": [
        "[(0, 'Fecha'),\n",
        " (1, 'Diagnostico'),\n",
        " (2, 'Servicio'),\n",
        " (3, 'Medico'),\n",
        " (4, 'glucosa (mg/dL)'),\n",
        " (5, 'urea (mg/dl)'),\n",
        " (6, 'creatinina (mg/dL)'),\n",
        " (7, 'acido urico (mg/dl)'),\n",
        " (8, 'Filtrado Glomerular estimado (MDRD-4 IDMS) (mL/ min/ 1.73m3)'),\n",
        " (9, 'Trigliceridos (mg/dL)'),\n",
        " (10, 'colesterol (mg/dL)'),\n",
        " (11, 'hdl-colesterol (mg/dL)'),\n",
        " (12, 'ldl-colesterol (mg/dL)'),\n",
        " (13, 'sodio(mEq/L)'),\n",
        " (14, 'potasio(mEq/L)'),\n",
        " (15, 'cloro(mEq/L)'),\n",
        " (16, 'calcio (mg/dl)'),\n",
        " (17, 'PCR (mg/L)'),\n",
        " (18, 'fosforo (mg/dl)'),\n",
        " (19, 'proteinas (g/dl)'),\n",
        " (20, 'albumia (g/dl)'),\n",
        " (21, 'alb/glob '),\n",
        " (22, 'alb/prot'),\n",
        " (23, 'ast/got (U/L)'),\n",
        " (24, 'alt/gpt (U/L)'),\n",
        " (25, 'gamma-gt (U/L)'),\n",
        " (26, 'fosf. Alcalina (U/L)'),\n",
        " (27, 'bilirrubina total (mg/dL)'),\n",
        " (28, 'CO2 total (mmol/L)'),\n",
        " (29, 'Lactato (mg/dL)'),\n",
        " (30, 'LDH (U/L)'),\n",
        " (31, 'amilasa (U/L)'),\n",
        " (32, 'hierro (microg/dl)'),\n",
        " (33, 'cap. Fij. Hierro (microg/dl)'),\n",
        " (34, 'transferrina (g/l)'),\n",
        " (35, 'saturac. Transf (%)'),\n",
        " (36, 'ferritina (ng/ml)'),\n",
        " (37, 'albumina(%)'),\n",
        " (38, 'alfa-1 (%)'),\n",
        " (39, 'alfa-2 (%)'),\n",
        " (40, 'beta (%)'),\n",
        " (41, 'Gamma (%)'),\n",
        " (42, 'A/G '),\n",
        " (43, 'albumina (g/dl)'),\n",
        " (44, 'alfa 1 (g/dl)'),\n",
        " (45, 'alfa 2 (g/dl)'),\n",
        " (46, 'beta (g/dl)'),\n",
        " (47, 'gamma (g/dl)'),\n",
        " (48, 'alfa-1-antitripsina (g/L)'),\n",
        " (49, 'n\u00ba leucocitos (miles)'),\n",
        " (50, 'neutrofilos (%)'),\n",
        " (51, 'linfocitos (%)'),\n",
        " (52, 'monocitos (%)'),\n",
        " (53, 'eosinofilos (%)'),\n",
        " (54, 'basofilos (%)'),\n",
        " (55, 'n\u00ba hematies (millones)'),\n",
        " (56, 'hematocrito (%)'),\n",
        " (57, 'Granulocitos inmad (%)'),\n",
        " (58, 'Eritroblastos (%)'),\n",
        " (59, 'hemoglobina(g/dl)'),\n",
        " (60, 'VCM (fl)'),\n",
        " (61, 'n\u00ba plaquetas (miles)'),\n",
        " (62, 'neutrofilos (miles)'),\n",
        " (63, 'linfocitos (miles)'),\n",
        " (64, 'monocitos (miles)'),\n",
        " (65, 'eosinofilos (miles)'),\n",
        " (66, 'basofilos (miles)'),\n",
        " (67, 'Granulocitos inmad (miles)'),\n",
        " (68, 'Eritroblastos (miles)'),\n",
        " (69, 'HCM (pg)'),\n",
        " (70, 'CHCM (g/dl)'),\n",
        " (71, 'ADE (%)'),\n",
        " (72, 'VPM (fl)'),\n",
        " (73, 'VSG 1\u00ba  Hora (mm)'),\n",
        " (74, 'Reticulocitos (%)'),\n",
        " (75, 'TSH (microUl/ml)'),\n",
        " (76, 'T4 Libre (ng/dl)'),\n",
        " (77, 'FSH (Ul/L)'),\n",
        " (78, 'LH(Ul/L)'),\n",
        " (79, 'PSA TOTAL (ng/ml)'),\n",
        " (80, '17-Beta-Estradiol (pg/ml)'),\n",
        " (81, 'prolactina (ng(ml)'),\n",
        " (82, 'Testosterona total (ng/ml)'),\n",
        " (83, 'Testosterona libre calculada (pg/ml)'),\n",
        " (84, 'Vitamina D (ng/mL)'),\n",
        " (85, 'dehidroepiandrosterona sulfato (microg/mL)'),\n",
        " (86, 'cortisol (microg/dl)'),\n",
        " (87, 'sex hormone binding globulin (nmol/L)'),\n",
        " (88, 'Antitransglutamin (U/mL)'),\n",
        " (89, 'beta-hcg(mUl/L)'),\n",
        " (90, 'aPTT (seg)'),\n",
        " (91, 'Tiempo protombina (%)'),\n",
        " (92, 'INR'),\n",
        " (93, 'ratio TTPA'),\n",
        " (94, 'Fibrinogeno (d) (mg/dl)'),\n",
        " (95, 'Alfa-fetoproteina (U/ml)'),\n",
        " (96, 'CEA (ng/ml)'),\n",
        " (97, 'Ca 19.9 (U/ml)'),\n",
        " (98, 'ceruloplasmina (g/l)'),\n",
        " (99, 'Test COOMBS Directo'),\n",
        " (100, 'haptoglobina (g/l)'),\n",
        " (101, 'vitamina b12 (pg/ml)'),\n",
        " (102, 'folatos (ng/ml)'),\n",
        " (103, 'pH '),\n",
        " (104, 'pO2 (mmHg)'),\n",
        " (105, 'pCO2 (mmHg)'),\n",
        " (106, 'Bicarbonato (mmol/L)'),\n",
        " (107, 'Exceso de bases (mmol/L)'),\n",
        " (108, 'Saturacion de O2 (%)'),\n",
        " (109, 'FIO2'),\n",
        " (110, 'proteina C (mg/L)'),\n",
        " (111, 'Notas')]"
       ]
      }
     ],
     "prompt_number": 3
    },
    {
     "cell_type": "code",
     "collapsed": false,
     "input": [
      "colname = data.columns[27]"
     ],
     "language": "python",
     "metadata": {},
     "outputs": [],
     "prompt_number": 4
    },
    {
     "cell_type": "code",
     "collapsed": false,
     "input": [
      "m = data[colname]\n",
      "mask = (m.isnull() == False)\n",
      "\n",
      "y = data[colname][mask]\n",
      "x = data[\"Fecha\"][mask]"
     ],
     "language": "python",
     "metadata": {},
     "outputs": [],
     "prompt_number": 5
    },
    {
     "cell_type": "code",
     "collapsed": false,
     "input": [
      "np.arange()"
     ],
     "language": "python",
     "metadata": {},
     "outputs": [
      {
       "ename": "TypeError",
       "evalue": "Required argument 'start' (pos 1) not found",
       "output_type": "pyerr",
       "traceback": [
        "\u001b[1;31m---------------------------------------------------------------------------\u001b[0m\n\u001b[1;31mTypeError\u001b[0m                                 Traceback (most recent call last)",
        "\u001b[1;32m<ipython-input-7-b09dc730931f>\u001b[0m in \u001b[0;36m<module>\u001b[1;34m()\u001b[0m\n\u001b[1;32m----> 1\u001b[1;33m \u001b[0mnp\u001b[0m\u001b[1;33m.\u001b[0m\u001b[0marange\u001b[0m\u001b[1;33m(\u001b[0m\u001b[1;33m)\u001b[0m\u001b[1;33m\u001b[0m\u001b[0m\n\u001b[0m",
        "\u001b[1;31mTypeError\u001b[0m: Required argument 'start' (pos 1) not found"
       ]
      }
     ],
     "prompt_number": 7
    },
    {
     "cell_type": "code",
     "collapsed": false,
     "input": [
      "#linear model\n",
      "clf = linear_model.LinearRegression()\n",
      "X = np.arange(len(x)).reshape(len(x),1)\n",
      "Y = y.reshape(len(y),1)\n",
      "line = clf.fit( X , Y ).predict(X)"
     ],
     "language": "python",
     "metadata": {},
     "outputs": [],
     "prompt_number": 8
    },
    {
     "cell_type": "code",
     "collapsed": false,
     "input": [
      "plt.plot(y.values)\n",
      "plt.plot(np.arange(len(x)), line, c=\"r\")\n",
      "plt.title(colname)\n",
      "labels = [ i.strftime(\"%Y/%m/%d\") for i in x ]\n",
      "plt.xticks(range(y.size), labels, rotation=90)\n",
      "\n",
      "plt.show()"
     ],
     "language": "python",
     "metadata": {},
     "outputs": [
      {
       "metadata": {},
       "output_type": "display_data",
       "png": "[encoded data removed]",
       "text": [
        "<matplotlib.figure.Figure at 0x7f130048f710>"
       ]
      }
     ],
     "prompt_number": 56
    },
    {
     "cell_type": "code",
     "collapsed": false,
     "input": [
      "y"
     ],
     "language": "python",
     "metadata": {},
     "outputs": [
      {
       "metadata": {},
       "output_type": "pyout",
       "prompt_number": 9,
       "text": [
        "17    0.29\n",
        "16    0.17\n",
        "15    0.26\n",
        "14    0.27\n",
        "13    0.40\n",
        "25    0.30\n",
        "12    0.25\n",
        "27    0.30\n",
        "28    0.30\n",
        "10    0.54\n",
        "9     0.31\n",
        "8     0.19\n",
        "6     0.27\n",
        "5     0.20\n",
        "4     0.25\n",
        "3     0.25\n",
        "2     0.63\n",
        "1     0.46\n",
        "0     0.44\n",
        "30    0.60\n",
        "Name: bilirrubina total (mg/dL), dtype: float64"
       ]
      }
     ],
     "prompt_number": 9
    },
    {
     "cell_type": "code",
     "collapsed": false,
     "input": [
      "x"
     ],
     "language": "python",
     "metadata": {},
     "outputs": [
      {
       "metadata": {},
       "output_type": "pyout",
       "prompt_number": 10,
       "text": [
        "17   2010-04-09\n",
        "16   2010-06-22\n",
        "15   2011-06-28\n",
        "14   2011-06-29\n",
        "13   2011-07-07\n",
        "25   2011-08-02\n",
        "12   2011-08-22\n",
        "27   2011-08-30\n",
        "28   2011-08-30\n",
        "10   2012-02-03\n",
        "9    2012-05-28\n",
        "8    2012-06-22\n",
        "6    2012-10-01\n",
        "5    2012-12-20\n",
        "4    2013-01-30\n",
        "3    2013-06-19\n",
        "2    2013-07-05\n",
        "1    2013-09-18\n",
        "0    2013-10-21\n",
        "30   2015-04-06\n",
        "Name: Fecha, dtype: datetime64[ns]"
       ]
      }
     ],
     "prompt_number": 10
    },
    {
     "cell_type": "code",
     "collapsed": false,
     "input": [],
     "language": "python",
     "metadata": {},
     "outputs": []
    }
   ],
   "metadata": {}
  }
 ]
}