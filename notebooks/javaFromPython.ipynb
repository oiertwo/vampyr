{
 "metadata": {
  "name": "",
  "signature": "sha256:43b7a7041a895d7bcc0fd25fe7459ff8ddebf411af84db5ebab7cbf01dd323db"
 },
 "nbformat": 3,
 "nbformat_minor": 0,
 "worksheets": [
  {
   "cells": [
    {
     "cell_type": "markdown",
     "metadata": {},
     "source": [
      "#USING Py4J "
     ]
    },
    {
     "cell_type": "code",
     "collapsed": false,
     "input": [
      "import py4j\n",
      "from py4j.java_gateway import JavaGateway"
     ],
     "language": "python",
     "metadata": {},
     "outputs": [],
     "prompt_number": 6
    },
    {
     "cell_type": "code",
     "collapsed": false,
     "input": [
      "gateway = JavaGateway()\n",
      "gateway.jvm"
     ],
     "language": "python",
     "metadata": {},
     "outputs": [
      {
       "output_type": "stream",
       "stream": "stderr",
       "text": [
        "ERROR:py4j.java_gateway:An error occurred while trying to connect to the Java server\n",
        "Traceback (most recent call last):\n",
        "  File \"/home/oier/envs/analisis/lib/python3.4/site-packages/py4j/java_gateway.py\", line 316, in _get_connection\n",
        "    connection = self.deque.pop()\n",
        "IndexError: pop from an empty deque\n",
        "\n",
        "During handling of the above exception, another exception occurred:\n",
        "\n",
        "Traceback (most recent call last):\n",
        "  File \"/home/oier/envs/analisis/lib/python3.4/site-packages/py4j/java_gateway.py\", line 425, in start\n",
        "    self.socket.connect((self.address, self.port))\n",
        "ConnectionRefusedError: [Errno 111] Connection refused\n"
       ]
      },
      {
       "output_type": "stream",
       "stream": "stderr",
       "text": [
        "ERROR:py4j.java_gateway:An error occurred while trying to connect to the Java server\n",
        "Traceback (most recent call last):\n",
        "  File \"/home/oier/envs/analisis/lib/python3.4/site-packages/py4j/java_gateway.py\", line 316, in _get_connection\n",
        "    connection = self.deque.pop()\n",
        "IndexError: pop from an empty deque\n",
        "\n",
        "During handling of the above exception, another exception occurred:\n",
        "\n",
        "Traceback (most recent call last):\n",
        "  File \"/home/oier/envs/analisis/lib/python3.4/site-packages/py4j/java_gateway.py\", line 425, in start\n",
        "    self.socket.connect((self.address, self.port))\n",
        "ConnectionRefusedError: [Errno 111] Connection refused\n"
       ]
      },
      {
       "output_type": "stream",
       "stream": "stderr",
       "text": [
        "ERROR:py4j.java_gateway:An error occurred while trying to connect to the Java server\n",
        "Traceback (most recent call last):\n",
        "  File \"/home/oier/envs/analisis/lib/python3.4/site-packages/py4j/java_gateway.py\", line 316, in _get_connection\n",
        "    connection = self.deque.pop()\n",
        "IndexError: pop from an empty deque\n",
        "\n",
        "During handling of the above exception, another exception occurred:\n",
        "\n",
        "Traceback (most recent call last):\n",
        "  File \"/home/oier/envs/analisis/lib/python3.4/site-packages/py4j/java_gateway.py\", line 425, in start\n",
        "    self.socket.connect((self.address, self.port))\n",
        "ConnectionRefusedError: [Errno 111] Connection refused\n"
       ]
      },
      {
       "output_type": "stream",
       "stream": "stderr",
       "text": [
        "ERROR:py4j.java_gateway:An error occurred while trying to connect to the Java server\n",
        "Traceback (most recent call last):\n",
        "  File \"/home/oier/envs/analisis/lib/python3.4/site-packages/py4j/java_gateway.py\", line 316, in _get_connection\n",
        "    connection = self.deque.pop()\n",
        "IndexError: pop from an empty deque\n",
        "\n",
        "During handling of the above exception, another exception occurred:\n",
        "\n",
        "Traceback (most recent call last):\n",
        "  File \"/home/oier/envs/analisis/lib/python3.4/site-packages/py4j/java_gateway.py\", line 425, in start\n",
        "    self.socket.connect((self.address, self.port))\n",
        "ConnectionRefusedError: [Errno 111] Connection refused\n"
       ]
      },
      {
       "output_type": "stream",
       "stream": "stderr",
       "text": [
        "ERROR:py4j.java_gateway:An error occurred while trying to connect to the Java server\n",
        "Traceback (most recent call last):\n",
        "  File \"/home/oier/envs/analisis/lib/python3.4/site-packages/py4j/java_gateway.py\", line 316, in _get_connection\n",
        "    connection = self.deque.pop()\n",
        "IndexError: pop from an empty deque\n",
        "\n",
        "During handling of the above exception, another exception occurred:\n",
        "\n",
        "Traceback (most recent call last):\n",
        "  File \"/home/oier/envs/analisis/lib/python3.4/site-packages/py4j/java_gateway.py\", line 425, in start\n",
        "    self.socket.connect((self.address, self.port))\n",
        "ConnectionRefusedError: [Errno 111] Connection refused\n"
       ]
      },
      {
       "output_type": "stream",
       "stream": "stderr",
       "text": [
        "ERROR:py4j.java_gateway:An error occurred while trying to connect to the Java server\n",
        "Traceback (most recent call last):\n",
        "  File \"/home/oier/envs/analisis/lib/python3.4/site-packages/py4j/java_gateway.py\", line 316, in _get_connection\n",
        "    connection = self.deque.pop()\n",
        "IndexError: pop from an empty deque\n",
        "\n",
        "During handling of the above exception, another exception occurred:\n",
        "\n",
        "Traceback (most recent call last):\n",
        "  File \"/home/oier/envs/analisis/lib/python3.4/site-packages/py4j/java_gateway.py\", line 425, in start\n",
        "    self.socket.connect((self.address, self.port))\n",
        "ConnectionRefusedError: [Errno 111] Connection refused\n"
       ]
      },
      {
       "output_type": "stream",
       "stream": "stderr",
       "text": [
        "ERROR:py4j.java_gateway:An error occurred while trying to connect to the Java server\n",
        "Traceback (most recent call last):\n",
        "  File \"/home/oier/envs/analisis/lib/python3.4/site-packages/py4j/java_gateway.py\", line 316, in _get_connection\n",
        "    connection = self.deque.pop()\n",
        "IndexError: pop from an empty deque\n",
        "\n",
        "During handling of the above exception, another exception occurred:\n",
        "\n",
        "Traceback (most recent call last):\n",
        "  File \"/home/oier/envs/analisis/lib/python3.4/site-packages/py4j/java_gateway.py\", line 425, in start\n",
        "    self.socket.connect((self.address, self.port))\n",
        "ConnectionRefusedError: [Errno 111] Connection refused\n"
       ]
      },
      {
       "output_type": "stream",
       "stream": "stderr",
       "text": [
        "ERROR:py4j.java_gateway:An error occurred while trying to connect to the Java server\n",
        "Traceback (most recent call last):\n",
        "  File \"/home/oier/envs/analisis/lib/python3.4/site-packages/py4j/java_gateway.py\", line 316, in _get_connection\n",
        "    connection = self.deque.pop()\n",
        "IndexError: pop from an empty deque\n",
        "\n",
        "During handling of the above exception, another exception occurred:\n",
        "\n",
        "Traceback (most recent call last):\n",
        "  File \"/home/oier/envs/analisis/lib/python3.4/site-packages/py4j/java_gateway.py\", line 425, in start\n",
        "    self.socket.connect((self.address, self.port))\n",
        "ConnectionRefusedError: [Errno 111] Connection refused\n"
       ]
      },
      {
       "output_type": "stream",
       "stream": "stderr",
       "text": [
        "ERROR:py4j.java_gateway:An error occurred while trying to connect to the Java server\n",
        "Traceback (most recent call last):\n",
        "  File \"/home/oier/envs/analisis/lib/python3.4/site-packages/py4j/java_gateway.py\", line 316, in _get_connection\n",
        "    connection = self.deque.pop()\n",
        "IndexError: pop from an empty deque\n",
        "\n",
        "During handling of the above exception, another exception occurred:\n",
        "\n",
        "Traceback (most recent call last):\n",
        "  File \"/home/oier/envs/analisis/lib/python3.4/site-packages/py4j/java_gateway.py\", line 425, in start\n",
        "    self.socket.connect((self.address, self.port))\n",
        "ConnectionRefusedError: [Errno 111] Connection refused\n"
       ]
      },
      {
       "metadata": {},
       "output_type": "pyout",
       "prompt_number": 8,
       "text": [
        "<py4j.java_gateway.JVMView at 0x7fc785a64a58>"
       ]
      }
     ],
     "prompt_number": 8
    },
    {
     "cell_type": "markdown",
     "metadata": {},
     "source": [
      "#Using command line"
     ]
    },
    {
     "cell_type": "code",
     "collapsed": false,
     "input": [
      "import os"
     ],
     "language": "python",
     "metadata": {},
     "outputs": [],
     "prompt_number": 9
    },
    {
     "cell_type": "code",
     "collapsed": false,
     "input": [
      "os.system(\"java -jar ../java/extractText.jar ../data/ExampleTest.pdf\" )"
     ],
     "language": "python",
     "metadata": {},
     "outputs": [
      {
       "metadata": {},
       "output_type": "pyout",
       "prompt_number": 12,
       "text": [
        "0"
       ]
      }
     ],
     "prompt_number": 12
    },
    {
     "cell_type": "code",
     "collapsed": false,
     "input": [],
     "language": "python",
     "metadata": {},
     "outputs": [
      {
       "metadata": {},
       "output_type": "pyout",
       "prompt_number": 13,
       "text": [
        "'ab'"
       ]
      }
     ],
     "prompt_number": 13
    }
   ],
   "metadata": {}
  }
 ]
}