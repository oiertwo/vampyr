{
 "cells": [
  {
   "cell_type": "code",
   "execution_count": null,
   "metadata": {
    "collapsed": false
   },
   "outputs": [],
   "source": [
    "#Read data"
   ]
  },
  {
   "cell_type": "code",
   "execution_count": 1,
   "metadata": {
    "collapsed": false
   },
   "outputs": [
    {
     "ename": "ImportError",
     "evalue": "No module named 'distance'",
     "output_type": "error",
     "traceback": [
      "\u001b[1;31m---------------------------------------------------------------------------\u001b[0m",
      "\u001b[1;31mImportError\u001b[0m                               Traceback (most recent call last)",
      "\u001b[1;32m<ipython-input-1-c788662de425>\u001b[0m in \u001b[0;36m<module>\u001b[1;34m()\u001b[0m\n\u001b[1;32m----> 1\u001b[1;33m \u001b[1;32mimport\u001b[0m \u001b[0mdistance\u001b[0m \u001b[1;32mas\u001b[0m \u001b[0mdist\u001b[0m\u001b[1;33m\u001b[0m\u001b[0m\n\u001b[0m\u001b[0;32m      2\u001b[0m \u001b[1;32mimport\u001b[0m \u001b[0mnumpy\u001b[0m \u001b[1;32mas\u001b[0m \u001b[0mnp\u001b[0m\u001b[1;33m\u001b[0m\u001b[0m\n\u001b[0;32m      3\u001b[0m \u001b[1;32mimport\u001b[0m \u001b[0mpandas\u001b[0m \u001b[1;32mas\u001b[0m \u001b[0mpd\u001b[0m\u001b[1;33m\u001b[0m\u001b[0m\n\u001b[0;32m      4\u001b[0m \u001b[1;32mfrom\u001b[0m \u001b[0mcollections\u001b[0m \u001b[1;32mimport\u001b[0m \u001b[0mdeque\u001b[0m\u001b[1;33m\u001b[0m\u001b[0m\n\u001b[0;32m      5\u001b[0m \u001b[1;32mimport\u001b[0m \u001b[0mre\u001b[0m\u001b[1;33m\u001b[0m\u001b[0m\n",
      "\u001b[1;31mImportError\u001b[0m: No module named 'distance'"
     ]
    }
   ],
   "source": [
    "import distance as dist\n",
    "import numpy as np\n",
    "import pandas as pd\n",
    "from collections import deque\n",
    "import re"
   ]
  },
  {
   "cell_type": "code",
   "execution_count": 2,
   "metadata": {
    "collapsed": false
   },
   "outputs": [],
   "source": [
    "#Variables\n",
    "path = \"../data/ExampleTest.txt\"\n",
    "apath = \"../data/ExampleTestArray_modified.txt\""
   ]
  },
  {
   "cell_type": "code",
   "execution_count": 3,
   "metadata": {
    "collapsed": false
   },
   "outputs": [
    {
     "ename": "NameError",
     "evalue": "name 'deque' is not defined",
     "output_type": "error",
     "traceback": [
      "\u001b[1;31m---------------------------------------------------------------------------\u001b[0m",
      "\u001b[1;31mNameError\u001b[0m                                 Traceback (most recent call last)",
      "\u001b[1;32m<ipython-input-3-a083f406b0a4>\u001b[0m in \u001b[0;36m<module>\u001b[1;34m()\u001b[0m\n\u001b[0;32m      1\u001b[0m \u001b[0mdict\u001b[0m \u001b[1;33m=\u001b[0m \u001b[1;33m{\u001b[0m\u001b[1;33m}\u001b[0m\u001b[1;33m\u001b[0m\u001b[0m\n\u001b[0;32m      2\u001b[0m \u001b[0mappearances\u001b[0m \u001b[1;33m=\u001b[0m \u001b[1;33m{\u001b[0m\u001b[1;33m}\u001b[0m\u001b[1;33m\u001b[0m\u001b[0m\n\u001b[1;32m----> 3\u001b[1;33m \u001b[0mnames\u001b[0m \u001b[1;33m=\u001b[0m \u001b[0mdeque\u001b[0m\u001b[1;33m(\u001b[0m\u001b[1;33m)\u001b[0m\u001b[1;33m\u001b[0m\u001b[0m\n\u001b[0m\u001b[0;32m      4\u001b[0m \u001b[1;32mwith\u001b[0m \u001b[0mopen\u001b[0m\u001b[1;33m(\u001b[0m\u001b[0mpath\u001b[0m\u001b[1;33m)\u001b[0m \u001b[1;32mas\u001b[0m \u001b[0mf\u001b[0m\u001b[1;33m:\u001b[0m\u001b[1;33m\u001b[0m\u001b[0m\n\u001b[0;32m      5\u001b[0m     \u001b[0mtxt\u001b[0m \u001b[1;33m=\u001b[0m \u001b[0mf\u001b[0m\u001b[1;33m.\u001b[0m\u001b[0mreadlines\u001b[0m\u001b[1;33m(\u001b[0m\u001b[1;33m)\u001b[0m\u001b[1;33m\u001b[0m\u001b[0m\n",
      "\u001b[1;31mNameError\u001b[0m: name 'deque' is not defined"
     ]
    }
   ],
   "source": [
    "dict = {}\n",
    "appearances = {}\n",
    "names = deque()\n",
    "with open(path) as f:\n",
    "    txt = f.readlines()\n",
    "with open(apath) as f2:\n",
    "    array_txt_str = f2.read()\n",
    "    \n",
    "array_txt_str = re.sub(r'\\[.*?\\]', '',array_txt_str)\n",
    "name = \"\"\n",
    "size = 0\n",
    "for i in txt:\n",
    "    actual = i.replace(\"\\n\", '')\n",
    "    size +=len(actual)\n",
    "    if(len(i.strip()) == 0):\n",
    "        continue\n",
    "    try :\n",
    "        number = float(actual)\n",
    "        if (number > 10000000):\n",
    "            continue\n",
    "        \n",
    "        #TODO\n",
    "        #need to remove data between brackets in array_txt_str\n",
    "        #since some conflicts happen when finding numbers in that text\n",
    "        if(number == 0.0):\n",
    "            zeros = len([k.start() for k in re.finditer(\"0\", actual)])\n",
    "            \n",
    "        idx = [k.start() for k in re.finditer(actual, array_txt_str)]\n",
    "        idx_end = [k.end() for k in re.finditer(actual, array_txt_str)]\n",
    "        #myidx = np.where(min_idx == min(min_idx))\n",
    "        try:\n",
    "            appearances[actual] += 1\n",
    "        except:\n",
    "            appearances[actual] = 1\n",
    "        \n",
    "        #dict[actual] = actual\n",
    "        found = False\n",
    "        while appearances[actual] <= len(idx) and found == False:\n",
    "            prev = array_txt_str[idx[appearances[actual] - 1] - 1]\n",
    "            post = array_txt_str[idx_end[appearances[actual] - 1] + 1]\n",
    "            if (number == 0):\n",
    "                zf  = [k.start() for k in re.finditer(\"0\", array_txt_str[(idx[appearances[actual] - 1] - zeros):(idx_end[appearances[actual] - 1] + zeros)])]\n",
    "                if (len(zf) == zeros):\n",
    "                    found = True        \n",
    "            if (prev.isdigit() == False and post.isdigit() == False):\n",
    "                found = True\n",
    "            else:\n",
    "                if (found == False):\n",
    "                    appearances[actual] += 1\n",
    "            print(\"finding: {} prev: {} found?: {} number: {}\".format(actual, prev, found, appearances[actual] ))\n",
    "        print(\"found: {} location per line: {} location as array: {} apps: {} size: {} type of name: {}\".format(actual, size,idx[appearances[actual] -1],appearances[actual], len(idx),type(actual)))\n",
    "    except :\n",
    "        pass\n",
    "print(array_txt_str)"
   ]
  },
  {
   "cell_type": "code",
   "execution_count": 3,
   "metadata": {
    "collapsed": false
   },
   "outputs": [],
   "source": []
  }
 ],
 "metadata": {
  "kernelspec": {
   "display_name": "Python 3",
   "language": "python",
   "name": "python3"
  },
  "language_info": {
   "codemirror_mode": {
    "name": "ipython",
    "version": 3
   },
   "file_extension": ".py",
   "mimetype": "text/x-python",
   "name": "python",
   "nbconvert_exporter": "python",
   "pygments_lexer": "ipython3",
   "version": "3.4.3"
  }
 },
 "nbformat": 4,
 "nbformat_minor": 0
}
